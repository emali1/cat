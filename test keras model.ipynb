{
 "cells": [
  {
   "cell_type": "code",
   "execution_count": 50,
   "id": "figured-forge",
   "metadata": {},
   "outputs": [],
   "source": [
    "from keras.models import load_model\n",
    "import pandas as pd\n",
    "from joblib import dump, load"
   ]
  },
  {
   "cell_type": "code",
   "execution_count": 51,
   "id": "round-tobago",
   "metadata": {},
   "outputs": [],
   "source": [
    "def load_data(filepath):\n",
    "    \n",
    "    columns = ['index','age','breed','last_vet_visit','hair_length','height','num_vet_visit','weight']\n",
    "    \n",
    "    return pd.read_csv(filepath,names=columns,header=0)"
   ]
  },
  {
   "cell_type": "code",
   "execution_count": 52,
   "id": "unknown-grace",
   "metadata": {},
   "outputs": [],
   "source": [
    "model = load_model('cat_age_prediction_keras.h5')\n",
    "pipeline = load('keras_model_data_trans_pipeline.joblib')"
   ]
  },
  {
   "cell_type": "code",
   "execution_count": 53,
   "id": "behind-damage",
   "metadata": {},
   "outputs": [
    {
     "name": "stdout",
     "output_type": "stream",
     "text": [
      "Model: \"model_328\"\n",
      "_________________________________________________________________\n",
      "Layer (type)                 Output Shape              Param #   \n",
      "=================================================================\n",
      "input (InputLayer)           [(None, 10)]              0         \n",
      "_________________________________________________________________\n",
      "hidden1 (Dense)              (None, 20)                220       \n",
      "_________________________________________________________________\n",
      "hidden2 (Dense)              (None, 30)                630       \n",
      "_________________________________________________________________\n",
      "dropout_656 (Dropout)        (None, 30)                0         \n",
      "_________________________________________________________________\n",
      "hidden3 (Dense)              (None, 20)                620       \n",
      "_________________________________________________________________\n",
      "hidden4 (Dense)              (None, 30)                630       \n",
      "_________________________________________________________________\n",
      "dropout_657 (Dropout)        (None, 30)                0         \n",
      "_________________________________________________________________\n",
      "hidden5 (Dense)              (None, 5)                 155       \n",
      "_________________________________________________________________\n",
      "output (Dense)               (None, 1)                 6         \n",
      "=================================================================\n",
      "Total params: 2,261\n",
      "Trainable params: 2,261\n",
      "Non-trainable params: 0\n",
      "_________________________________________________________________\n"
     ]
    }
   ],
   "source": [
    "model.summary()"
   ]
  },
  {
   "cell_type": "code",
   "execution_count": 59,
   "id": "computational-norway",
   "metadata": {},
   "outputs": [],
   "source": [
    "OneRecord = load_data('data.csv').sample(5)\n",
    "OneRecord = OneRecord.drop(columns=['index','last_vet_visit'])\n",
    "OneRecord = pipeline.transform(OneRecord)"
   ]
  },
  {
   "cell_type": "code",
   "execution_count": 60,
   "id": "wired-eleven",
   "metadata": {},
   "outputs": [
    {
     "data": {
      "text/plain": [
       "array([[-0.64671752,  0.09496044, -0.05675968,  1.0713841 ,  0.        ,\n",
       "         0.        ,  0.        ,  1.        ,  0.        ,  0.        ,\n",
       "         8.        ],\n",
       "       [-0.39770799,  2.51294507, -1.45763699, -0.42387023,  0.        ,\n",
       "         0.        ,  0.        ,  1.        ,  0.        ,  0.        ,\n",
       "        10.        ],\n",
       "       [-0.56459393, -0.41805818,  0.22341578,  1.0713841 ,  0.        ,\n",
       "         0.        ,  0.        ,  0.        ,  0.        ,  1.        ,\n",
       "         5.        ],\n",
       "       [ 1.9150308 , -0.5855369 ,  0.22341578,  0.07454788,  0.        ,\n",
       "         0.        ,  0.        ,  0.        ,  1.        ,  0.        ,\n",
       "        11.        ],\n",
       "       [-1.04661219,  0.37614377, -0.05675968,  1.0713841 ,  0.        ,\n",
       "         0.        ,  0.        ,  0.        ,  1.        ,  0.        ,\n",
       "        10.        ]])"
      ]
     },
     "execution_count": 60,
     "metadata": {},
     "output_type": "execute_result"
    }
   ],
   "source": [
    "OneRecord"
   ]
  },
  {
   "cell_type": "code",
   "execution_count": 61,
   "id": "religious-culture",
   "metadata": {},
   "outputs": [
    {
     "data": {
      "text/plain": [
       "array([[8.39402 ],\n",
       "       [8.089731],\n",
       "       [8.035406],\n",
       "       [8.414872],\n",
       "       [8.169865]], dtype=float32)"
      ]
     },
     "execution_count": 61,
     "metadata": {},
     "output_type": "execute_result"
    }
   ],
   "source": [
    "model.predict(OneRecord[:,:-1])"
   ]
  },
  {
   "cell_type": "code",
   "execution_count": 62,
   "id": "stone-ordinary",
   "metadata": {},
   "outputs": [
    {
     "name": "stdout",
     "output_type": "stream",
     "text": [
      "1/1 [==============================] - 0s 27ms/step - loss: 1.9510\n"
     ]
    },
    {
     "data": {
      "text/plain": [
       "1.9509913921356201"
      ]
     },
     "execution_count": 62,
     "metadata": {},
     "output_type": "execute_result"
    }
   ],
   "source": [
    "model.evaluate(OneRecord[:,:-1],OneRecord[:,-1])"
   ]
  },
  {
   "cell_type": "code",
   "execution_count": null,
   "id": "democratic-preservation",
   "metadata": {},
   "outputs": [],
   "source": []
  }
 ],
 "metadata": {
  "kernelspec": {
   "display_name": "Python 3",
   "language": "python",
   "name": "python3"
  },
  "language_info": {
   "codemirror_mode": {
    "name": "ipython",
    "version": 3
   },
   "file_extension": ".py",
   "mimetype": "text/x-python",
   "name": "python",
   "nbconvert_exporter": "python",
   "pygments_lexer": "ipython3",
   "version": "3.7.9"
  }
 },
 "nbformat": 4,
 "nbformat_minor": 5
}
