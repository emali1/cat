{
 "cells": [
  {
   "cell_type": "code",
   "execution_count": 12,
   "id": "boolean-buffer",
   "metadata": {},
   "outputs": [
    {
     "name": "stdout",
     "output_type": "stream",
     "text": [
      "[[8.246672630310059]]curl: (6) Could not resolve host: \\\n"
     ]
    }
   ],
   "source": [
    "!curl -XPOST 'http://localhost:5000/cat/prediction' \\\n",
    "-F 'breed=Rex' \\\n",
    "-F 'last_vet_visit=2001-02-13' \\\n",
    "-F 'hair_length=1.05' \\\n",
    "-F 'height=21.52' \\\n",
    "-F 'num_vet_visit=3' \\\n",
    "-F 'weight=7.0' \\\n"
   ]
  },
  {
   "cell_type": "code",
   "execution_count": null,
   "id": "compound-tourism",
   "metadata": {},
   "outputs": [],
   "source": []
  },
  {
   "cell_type": "code",
   "execution_count": null,
   "id": "acting-president",
   "metadata": {},
   "outputs": [],
   "source": []
  }
 ],
 "metadata": {
  "kernelspec": {
   "display_name": "Python 3",
   "language": "python",
   "name": "python3"
  },
  "language_info": {
   "codemirror_mode": {
    "name": "ipython",
    "version": 3
   },
   "file_extension": ".py",
   "mimetype": "text/x-python",
   "name": "python",
   "nbconvert_exporter": "python",
   "pygments_lexer": "ipython3",
   "version": "3.7.9"
  }
 },
 "nbformat": 4,
 "nbformat_minor": 5
}
