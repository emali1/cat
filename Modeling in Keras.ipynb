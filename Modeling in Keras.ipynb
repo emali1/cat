{
 "cells": [
  {
   "cell_type": "markdown",
   "metadata": {},
   "source": [
    "## Additional Modeling using Neural Network.  \n",
    "\n",
    "It is a common approach for small amount of data, such as this homework, the data scientis would use traditional modeling techniques, such as SVM, ensemble learning algorithm or tree based algorithm. And leave neural network out of discussion. \n",
    "\n",
    "As short of learning samples, would make neural network harder to generalise and tuning parameters. \n",
    "\n",
    "But there are cerain good properties in Neural Network, such as auto feature engineering, ability to scope to larger dataset, would still make it a valid candidate to build a baseline model. \n",
    "\n",
    "In this code, I would use keras as the deep learning framework. "
   ]
  },
  {
   "cell_type": "code",
   "execution_count": 1,
   "metadata": {},
   "outputs": [],
   "source": [
    "import numpy as np\n",
    "import pandas as pd\n",
    "import matplotlib\n",
    "import matplotlib.pyplot as plt\n",
    "%matplotlib inline\n",
    "matplotlib.rcParams['figure.figsize'] = (12.0, 12.0)\n",
    "\n",
    "from keras import Sequential \n",
    "from keras.layers import Dense,Input,Dropout,BatchNormalization, Activation\n",
    "from keras.models import Model\n",
    "from keras.callbacks import EarlyStopping\n",
    "\n",
    "\n",
    "from sklearn.model_selection import train_test_split\n",
    "from sklearn.preprocessing import OneHotEncoder,StandardScaler\n",
    "from sklearn.compose import ColumnTransformer\n",
    "from sklearn.pipeline import make_pipeline\n",
    "from sklearn.metrics import mean_squared_error\n",
    "\n",
    "from tqdm.notebook import tqdm\n",
    "tqdm.pandas()\n"
   ]
  },
  {
   "cell_type": "code",
   "execution_count": 2,
   "metadata": {},
   "outputs": [],
   "source": [
    "## Common methods to load and preprocess data\n",
    "def load_data(filepath):\n",
    "    \n",
    "    columns = ['index','age','breed','last_vet_visit','hair_length','height','num_vet_visit','weight']\n",
    "    \n",
    "    return pd.read_csv(filepath,names=columns,header=0)\n",
    "\n",
    "def remove_negative_value(df, columns):\n",
    "    # df: dataframe of the data \n",
    "    # columns: list of columns need to remove negative value from \n",
    "    \n",
    "    if len(columns) == 0 and df.empty:\n",
    "        return df\n",
    "    \n",
    "    for col in columns:\n",
    "        df = df[df[col]>=0]\n",
    "    \n",
    "    return df\n",
    "\n",
    "\n",
    "def remove_extreme_outliers(df,columns):\n",
    "    #for values great then quantile 99.9% then it would be treated as exterm outlier \n",
    "    # df: dataframe of the data \n",
    "    # columns: list of columns need to remove negative value from \n",
    "    \n",
    "    if len(columns) == 0 and df.empty:\n",
    "        return df\n",
    "    \n",
    "    for col in columns:\n",
    "        limit = df[col].quantile(0.999)\n",
    "        df = df[df[col]<limit] \n",
    "        \n",
    "    return df\n",
    "\n",
    "# Create a data pipeline to handle Category and scale numerical data\n",
    "\n",
    "category_cols = ['breed']\n",
    "numerical_cols = ['hair_length','height','num_vet_visit','weight']\n",
    "\n",
    "pipeline = make_pipeline(\n",
    "    ColumnTransformer([\n",
    "        ('num', StandardScaler(),numerical_cols),\n",
    "        ('cat',OneHotEncoder(handle_unknown='ignore'),category_cols),\n",
    "        \n",
    "    ],remainder='passthrough')\n",
    ")\n",
    "\n",
    "def preprocess():\n",
    "    \n",
    "    filepath='data.csv'\n",
    "\n",
    "    df = load_data(filepath)\n",
    "\n",
    "    #remove  column \n",
    "    df = df.drop(columns=['index','last_vet_visit'])\n",
    "\n",
    "    #remove any negative value\n",
    "    df = remove_negative_value(df,['age','hair_length','height','num_vet_visit','weight'])\n",
    "\n",
    "    #remove any exterme outliers\n",
    "    df = remove_extreme_outliers(df,['age','hair_length','height','num_vet_visit','weight'])\n",
    " \n",
    "    #split training, test and validation set\n",
    "    val_size = 0.2 \n",
    "    test_size = 0.15\n",
    "    \n",
    "    df_temp,df_test = train_test_split(df, test_size=test_size,random_state=1)\n",
    "    df_train,df_val = train_test_split(df_temp, test_size=val_size,random_state=1)\n",
    "    \n",
    "#     print(df_train.head())\n",
    "    #using the pipeline to scale numerical column and onehot encoder for category column\n",
    "    df_train = pipeline.fit_transform(df_train)\n",
    "    df_test = pipeline.transform(df_test)\n",
    "    df_val = pipeline.transform(df_val)\n",
    "    \n",
    "    \n",
    "    return df_train,df_test,df_val"
   ]
  },
  {
   "cell_type": "code",
   "execution_count": 3,
   "metadata": {},
   "outputs": [
    {
     "name": "stdout",
     "output_type": "stream",
     "text": [
      "train size (196, 11), test size (44, 11), validation size (50, 11)\n"
     ]
    }
   ],
   "source": [
    "train,test,val=preprocess()\n",
    "print('train size {}, test size {}, validation size {}'.format(train.shape,test.shape,val.shape))"
   ]
  },
  {
   "cell_type": "code",
   "execution_count": 7,
   "metadata": {},
   "outputs": [],
   "source": [
    "def split_x_y(dataset):\n",
    "    return dataset[:,:-1],dataset[:,-1]"
   ]
  },
  {
   "cell_type": "code",
   "execution_count": 8,
   "metadata": {},
   "outputs": [],
   "source": [
    "x_train,y_train = split_x_y(train)\n",
    "x_test,y_test = split_x_y(test)\n",
    "x_val,y_val = split_x_y(val)"
   ]
  },
  {
   "cell_type": "code",
   "execution_count": 11,
   "metadata": {},
   "outputs": [],
   "source": [
    "# evaluate overall model performance\n",
    "\n",
    "def evaluation(model,benchmark_score):\n",
    "    score = model.evaluate(x_test, y_test, verbose=2)\n",
    "    \n",
    "    if score < benchmark_score:\n",
    "        print('The current score:{} BEATS the bechmark score {}'.format(score,benchmark_score))\n",
    "        benchmark_score = score\n",
    "    else:\n",
    "        print('The current score:{} is NO BETTER the bechmark score {}'.format(score,benchmark_score))\n",
    "        \n",
    "    return benchmark_score\n",
    "        \n",
    "benchmark_score = 999"
   ]
  },
  {
   "cell_type": "code",
   "execution_count": 50,
   "metadata": {},
   "outputs": [],
   "source": [
    "def model_def(input_shape):\n",
    "    inputs = Input(shape=(input_shape,),name='input')\n",
    "    hidden1 = Dense(20,activation='relu',name='hidden1')(inputs)\n",
    "    hidden2 = Dense(20,activation='relu',name='hidden2')(hidden1)\n",
    "#     hidden3 = Dense(30,activation='relu',name='hidden3')(hidden2)\n",
    "    outputs = Dense(1,activation='linear',name='output')(hidden2)\n",
    "    \n",
    "    model = Model(inputs=inputs, outputs=outputs)\n",
    "    return model"
   ]
  },
  {
   "cell_type": "code",
   "execution_count": 51,
   "metadata": {},
   "outputs": [
    {
     "name": "stdout",
     "output_type": "stream",
     "text": [
      "Model: \"model_12\"\n",
      "_________________________________________________________________\n",
      "Layer (type)                 Output Shape              Param #   \n",
      "=================================================================\n",
      "input (InputLayer)           [(None, 10)]              0         \n",
      "_________________________________________________________________\n",
      "hidden1 (Dense)              (None, 20)                220       \n",
      "_________________________________________________________________\n",
      "hidden2 (Dense)              (None, 20)                420       \n",
      "_________________________________________________________________\n",
      "output (Dense)               (None, 1)                 21        \n",
      "=================================================================\n",
      "Total params: 661\n",
      "Trainable params: 661\n",
      "Non-trainable params: 0\n",
      "_________________________________________________________________\n"
     ]
    },
    {
     "data": {
      "text/plain": [
       "<tensorflow.python.keras.callbacks.History at 0x7f64780ee410>"
      ]
     },
     "execution_count": 51,
     "metadata": {},
     "output_type": "execute_result"
    }
   ],
   "source": [
    "model= model_def(x_train.shape[1])\n",
    "model.compile(optimizer ='adam',\n",
    "              loss='mean_squared_error')\n",
    "model.summary()\n",
    "model.fit(x_train,y_train,batch_size=30, epochs=200,verbose=0)"
   ]
  },
  {
   "cell_type": "code",
   "execution_count": 52,
   "metadata": {},
   "outputs": [
    {
     "name": "stdout",
     "output_type": "stream",
     "text": [
      "WARNING:tensorflow:6 out of the last 11 calls to <function Model.make_test_function.<locals>.test_function at 0x7f64780887a0> triggered tf.function retracing. Tracing is expensive and the excessive number of tracings could be due to (1) creating @tf.function repeatedly in a loop, (2) passing tensors with different shapes, (3) passing Python objects instead of tensors. For (1), please define your @tf.function outside of the loop. For (2), @tf.function has experimental_relax_shapes=True option that relaxes argument shapes that can avoid unnecessary retracing. For (3), please refer to https://www.tensorflow.org/guide/function#controlling_retracing and https://www.tensorflow.org/api_docs/python/tf/function for  more details.\n",
      "2/2 - 0s - loss: 10.4360\n",
      "The current score:10.43604564666748 is NO BETTER the bechmark score 9.714255332946777\n"
     ]
    }
   ],
   "source": [
    "benchmark_score = evaluation(model,benchmark_score)"
   ]
  },
  {
   "cell_type": "code",
   "execution_count": 14,
   "metadata": {},
   "outputs": [
    {
     "name": "stdout",
     "output_type": "stream",
     "text": [
      "2/2 - 0s - loss: 10.3540\n",
      "Test loss: 10.354048728942871\n"
     ]
    }
   ],
   "source": [
    "history=model.fit(x_train,y_train, batch_size=30, epochs=100,verbose=0) \n",
    "\n",
    "test_scores = model.evaluate(x_test, y_test, verbose=2)\n",
    "\n",
    "print(\"Test loss:\", test_scores)"
   ]
  },
  {
   "cell_type": "code",
   "execution_count": null,
   "metadata": {},
   "outputs": [],
   "source": []
  },
  {
   "cell_type": "code",
   "execution_count": 15,
   "metadata": {},
   "outputs": [],
   "source": [
    "def plot_training_history_1(history):\n",
    "    plt.plot(history.history['loss'])\n",
    "    plt.title('Model loss')\n",
    "    plt.xlabel('Epoch')\n",
    "    plt.gca().set_ylim(0,100)\n",
    "    plt.gca().set_xlim(0,len(history.history['loss']))\n",
    "    plt.show()"
   ]
  },
  {
   "cell_type": "code",
   "execution_count": 16,
   "metadata": {},
   "outputs": [
    {
     "data": {
      "image/png": "[encoded data removed]",
      "text/plain": [
       "<Figure size 864x864 with 1 Axes>"
      ]
     },
     "metadata": {
      "needs_background": "light"
     },
     "output_type": "display_data"
    }
   ],
   "source": [
    "plot_training_history_1(history)"
   ]
  }
 ],
 "metadata": {
  "kernelspec": {
   "display_name": "Python 3",
   "language": "python",
   "name": "python3"
  },
  "language_info": {
   "codemirror_mode": {
    "name": "ipython",
    "version": 3
   },
   "file_extension": ".py",
   "mimetype": "text/x-python",
   "name": "python",
   "nbconvert_exporter": "python",
   "pygments_lexer": "ipython3",
   "version": "3.7.9"
  }
 },
 "nbformat": 4,
 "nbformat_minor": 4
}
