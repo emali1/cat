{
 "cells": [
  {
   "cell_type": "markdown",
   "metadata": {},
   "source": [
    "## Additional Modeling using Neural Network.  \n",
    "\n",
    "It is a common approach for small amount of data, such as this homework, the data scientis would use traditional modeling techniques, such as SVM, ensemble learning algorithm or tree based algorithm. And leave neural network out of discussion. \n",
    "\n",
    "As short of learning samples, would make neural network harder to generalise and tuning parameters. \n",
    "\n",
    "But there are cerain good properties in Neural Network, such as auto feature engineering, ability to scope to larger dataset, would still make it a valid candidate to build a baseline model. \n",
    "\n",
    "In this code, I would use keras as the deep learning framework. "
   ]
  },
  {
   "cell_type": "code",
   "execution_count": 1,
   "metadata": {},
   "outputs": [],
   "source": [
    "import numpy as np\n",
    "import pandas as pd\n",
    "import matplotlib\n",
    "import matplotlib.pyplot as plt\n",
    "%matplotlib inline\n",
    "matplotlib.rcParams['figure.figsize'] = (12.0, 12.0)\n",
    "\n",
    "from keras import Sequential \n",
    "from keras.layers import Dense,Input,Dropout,BatchNormalization, Activation\n",
    "from keras.models import Model\n",
    "from keras.callbacks import EarlyStopping\n",
    "\n",
    "\n",
    "from sklearn.model_selection import train_test_split\n",
    "from sklearn.preprocessing import OneHotEncoder,StandardScaler\n",
    "from sklearn.compose import ColumnTransformer\n",
    "from sklearn.pipeline import make_pipeline\n",
    "from sklearn.metrics import mean_squared_error\n",
    "\n",
    "from tqdm.notebook import tqdm\n",
    "tqdm.pandas()\n"
   ]
  },
  {
   "cell_type": "code",
   "execution_count": 94,
   "metadata": {},
   "outputs": [],
   "source": [
    "## Common methods to load and preprocess data\n",
    "def load_data(filepath):\n",
    "    \n",
    "    columns = ['index','age','breed','last_vet_visit','hair_length','height','num_vet_visit','weight']\n",
    "    \n",
    "    return pd.read_csv(filepath,names=columns,header=0)\n",
    "\n",
    "def remove_negative_value(df, columns):\n",
    "    # df: dataframe of the data \n",
    "    # columns: list of columns need to remove negative value from \n",
    "    \n",
    "    if len(columns) == 0 and df.empty:\n",
    "        return df\n",
    "    \n",
    "    for col in columns:\n",
    "        df = df[df[col]>=0]\n",
    "    \n",
    "    return df\n",
    "\n",
    "\n",
    "def remove_extreme_outliers(df,columns):\n",
    "    #for values great then quantile 99.9% then it would be treated as exterm outlier \n",
    "    # df: dataframe of the data \n",
    "    # columns: list of columns need to remove negative value from \n",
    "    \n",
    "    if len(columns) == 0 and df.empty:\n",
    "        return df\n",
    "    \n",
    "    for col in columns:\n",
    "        limit = df[col].quantile(0.999)\n",
    "        df = df[df[col]<limit] \n",
    "        \n",
    "    return df\n",
    "\n",
    "# Create a data pipeline to handle Category and scale numerical data\n",
    "\n",
    "category_cols = ['breed']\n",
    "numerical_cols = ['hair_length','height','num_vet_visit','weight']\n",
    "\n",
    "pipeline = make_pipeline(\n",
    "    ColumnTransformer([\n",
    "        ('num', StandardScaler(),numerical_cols),\n",
    "        ('cat',OneHotEncoder(handle_unknown='ignore'),category_cols),\n",
    "        \n",
    "    ],remainder='passthrough')\n",
    ")\n",
    "\n",
    "def preprocess():\n",
    "    \n",
    "    filepath='data.csv'\n",
    "\n",
    "    df = load_data(filepath)\n",
    "\n",
    "    #remove  column \n",
    "    df = df.drop(columns=['index','last_vet_visit'])\n",
    "\n",
    "    #remove any negative value\n",
    "    df = remove_negative_value(df,['age','hair_length','height','num_vet_visit','weight'])\n",
    "\n",
    "    #remove any exterme outliers\n",
    "    df = remove_extreme_outliers(df,['age','hair_length','height','num_vet_visit','weight'])\n",
    " \n",
    "    #split training, test and validation set \n",
    "    test_size = 0.2\n",
    "    \n",
    "    df_train,df_test = train_test_split(df, test_size=test_size,random_state=1)\n",
    "\n",
    "    #using the pipeline to scale numerical column and onehot encoder for category column\n",
    "    df_train = pipeline.fit_transform(df_train)\n",
    "    df_test = pipeline.transform(df_test)\n",
    "\n",
    "    \n",
    "    \n",
    "    return df_train,df_test"
   ]
  },
  {
   "cell_type": "code",
   "execution_count": 96,
   "metadata": {},
   "outputs": [
    {
     "name": "stdout",
     "output_type": "stream",
     "text": [
      "train size (232, 11), test size (58, 11)\n"
     ]
    }
   ],
   "source": [
    "train,test=preprocess()\n",
    "print('train size {}, test size {}'.format(train.shape,test.shape))"
   ]
  },
  {
   "cell_type": "code",
   "execution_count": 97,
   "metadata": {},
   "outputs": [],
   "source": [
    "def split_x_y(dataset):\n",
    "    return dataset[:,:-1],dataset[:,-1]"
   ]
  },
  {
   "cell_type": "code",
   "execution_count": 98,
   "metadata": {},
   "outputs": [],
   "source": [
    "x_train,y_train = split_x_y(train)\n",
    "x_test,y_test = split_x_y(test)"
   ]
  },
  {
   "cell_type": "code",
   "execution_count": 56,
   "metadata": {},
   "outputs": [],
   "source": [
    "# evaluate overall model performance\n",
    "\n",
    "def evaluation(model,benchmark_score):\n",
    "    score = model.evaluate(x_test, y_test, verbose=0)\n",
    "    \n",
    "    if score < benchmark_score:\n",
    "        print('The current score:{} BEATS the bechmark score {}'.format(score,benchmark_score))\n",
    "        benchmark_score = score\n",
    "    else:\n",
    "        print('The current score:{} is NO BETTER the bechmark score {}'.format(score,benchmark_score))\n",
    "        \n",
    "    return benchmark_score\n",
    "        \n",
    "benchmark_score = 999"
   ]
  },
  {
   "cell_type": "code",
   "execution_count": 129,
   "metadata": {},
   "outputs": [],
   "source": [
    "def model_def(input_shape):\n",
    "    inputs = Input(shape=(input_shape,),name='input')\n",
    "    hidden1 = Dense(10,activation='relu',name='hidden1')(inputs)\n",
    "    hidden2 = Dense(10,activation='relu',name='hidden2')(hidden1)\n",
    "    hidden3 = Dense(10,activation='relu',name='hidden3')(hidden2)\n",
    "    hidden4 = Dense(10,activation='relu',name='hidden4')(hidden3)\n",
    "    outputs = Dense(1,activation='linear',name='output')(hidden4)\n",
    "    \n",
    "    model = Model(inputs=inputs, outputs=outputs)\n",
    "    return model"
   ]
  },
  {
   "cell_type": "code",
   "execution_count": 131,
   "metadata": {},
   "outputs": [
    {
     "name": "stdout",
     "output_type": "stream",
     "text": [
      "Model: \"model_43\"\n",
      "_________________________________________________________________\n",
      "Layer (type)                 Output Shape              Param #   \n",
      "=================================================================\n",
      "input (InputLayer)           [(None, 10)]              0         \n",
      "_________________________________________________________________\n",
      "hidden1 (Dense)              (None, 10)                110       \n",
      "_________________________________________________________________\n",
      "hidden2 (Dense)              (None, 10)                110       \n",
      "_________________________________________________________________\n",
      "hidden3 (Dense)              (None, 10)                110       \n",
      "_________________________________________________________________\n",
      "hidden4 (Dense)              (None, 10)                110       \n",
      "_________________________________________________________________\n",
      "output (Dense)               (None, 1)                 11        \n",
      "=================================================================\n",
      "Total params: 451\n",
      "Trainable params: 451\n",
      "Non-trainable params: 0\n",
      "_________________________________________________________________\n",
      "The current score:9.602875709533691 is NO BETTER the bechmark score 8.37881088256836\n"
     ]
    }
   ],
   "source": [
    "model= model_def(x_train.shape[1])\n",
    "model.compile(optimizer ='adam',\n",
    "              loss='mse')\n",
    "\n",
    "#add Early stop to control training \n",
    "earlyStopping = EarlyStopping(monitor='val_loss',\n",
    "                             patience=3,\n",
    "                             mode='auto',\n",
    "                             )\n",
    "\n",
    "model.summary()\n",
    "\n",
    "history = model.fit(x_train,y_train,\n",
    "          batch_size=20, \n",
    "          epochs=1000,\n",
    "          verbose=0,\n",
    "         shuffle=True,\n",
    "          validation_split=0.15,\n",
    "         callbacks=[earlyStopping])\n",
    "\n",
    "benchmark_score = evaluation(model,benchmark_score)"
   ]
  },
  {
   "cell_type": "code",
   "execution_count": 136,
   "metadata": {},
   "outputs": [
    {
     "data": {
      "text/plain": [
       "[93.8155746459961,\n",
       " 92.39379119873047,\n",
       " 91.29850006103516,\n",
       " 90.4931411743164,\n",
       " 89.89544677734375,\n",
       " 89.31570434570312,\n",
       " 88.6285629272461,\n",
       " 87.68666076660156,\n",
       " 86.22433471679688,\n",
       " 84.0668716430664,\n",
       " 81.1735610961914,\n",
       " 77.34796142578125,\n",
       " 72.7757797241211,\n",
       " 67.5367431640625,\n",
       " 61.160587310791016,\n",
       " 53.74239730834961,\n",
       " 45.05849838256836,\n",
       " 35.7949104309082,\n",
       " 27.176931381225586,\n",
       " 20.18692970275879,\n",
       " 16.313846588134766,\n",
       " 14.029423713684082,\n",
       " 12.634257316589355,\n",
       " 11.72942066192627,\n",
       " 10.928651809692383,\n",
       " 10.466419219970703,\n",
       " 10.140127182006836,\n",
       " 9.881288528442383,\n",
       " 9.687067031860352,\n",
       " 9.507219314575195,\n",
       " 9.389792442321777,\n",
       " 9.276275634765625,\n",
       " 9.153234481811523,\n",
       " 9.051474571228027,\n",
       " 8.962087631225586,\n",
       " 8.883874893188477,\n",
       " 8.827154159545898,\n",
       " 8.742383003234863,\n",
       " 8.681902885437012,\n",
       " 8.626311302185059,\n",
       " 8.572471618652344,\n",
       " 8.512659072875977,\n",
       " 8.467513084411621,\n",
       " 8.408193588256836,\n",
       " 8.386530876159668,\n",
       " 8.336770057678223,\n",
       " 8.307867050170898,\n",
       " 8.271729469299316,\n",
       " 8.241509437561035,\n",
       " 8.189278602600098,\n",
       " 8.164861679077148,\n",
       " 8.149727821350098,\n",
       " 8.112663269042969,\n",
       " 8.085314750671387,\n",
       " 8.046443939208984,\n",
       " 8.027219772338867,\n",
       " 7.998288631439209,\n",
       " 7.986532211303711,\n",
       " 7.9431586265563965,\n",
       " 7.923722267150879,\n",
       " 7.887334823608398,\n",
       " 7.867509841918945,\n",
       " 7.864924430847168,\n",
       " 7.812808990478516,\n",
       " 7.79195499420166,\n",
       " 7.772783279418945,\n",
       " 7.756877422332764,\n",
       " 7.721470355987549,\n",
       " 7.715418338775635,\n",
       " 7.696652412414551,\n",
       " 7.667510986328125,\n",
       " 7.674699306488037,\n",
       " 7.6194047927856445]"
      ]
     },
     "execution_count": 136,
     "metadata": {},
     "output_type": "execute_result"
    }
   ],
   "source": [
    "history.history['loss']"
   ]
  },
  {
   "cell_type": "code",
   "execution_count": 108,
   "metadata": {},
   "outputs": [],
   "source": [
    "def plot_training_history_1(history):\n",
    "    plt.plot(history.history['loss'])\n",
    "    plt.title('Model loss')\n",
    "    plt.xlabel('Epoch')\n",
    "    plt.gca().set_ylim(0,100)\n",
    "    plt.gca().set_xlim(0,len(history.history['loss']))\n",
    "    plt.show()"
   ]
  },
  {
   "cell_type": "code",
   "execution_count": 132,
   "metadata": {},
   "outputs": [
    {
     "data": {
      "image/png": "[encoded data removed]",
      "text/plain": [
       "<Figure size 864x864 with 1 Axes>"
      ]
     },
     "metadata": {
      "needs_background": "light"
     },
     "output_type": "display_data"
    }
   ],
   "source": [
    "plot_training_history_1(history)"
   ]
  },
  {
   "cell_type": "code",
   "execution_count": null,
   "metadata": {},
   "outputs": [],
   "source": []
  }
 ],
 "metadata": {
  "kernelspec": {
   "display_name": "Python 3",
   "language": "python",
   "name": "python3"
  },
  "language_info": {
   "codemirror_mode": {
    "name": "ipython",
    "version": 3
   },
   "file_extension": ".py",
   "mimetype": "text/x-python",
   "name": "python",
   "nbconvert_exporter": "python",
   "pygments_lexer": "ipython3",
   "version": "3.7.9"
  }
 },
 "nbformat": 4,
 "nbformat_minor": 4
}
