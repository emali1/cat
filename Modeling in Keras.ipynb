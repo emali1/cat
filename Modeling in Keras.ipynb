{
 "cells": [
  {
   "cell_type": "markdown",
   "metadata": {},
   "source": [
    "## Additional Modeling using Neural Network.  \n",
    "\n",
    "It is a common approach for small amount of data, such as this homework, the data scientis would use traditional modeling techniques, such as SVM, ensemble learning algorithm or tree based algorithm. And leave neural network out of discussion. \n",
    "\n",
    "As short of learning samples, would make neural network harder to generalise and tuning parameters. \n",
    "\n",
    "But there are cerain good properties in Neural Network, such as auto feature engineering, ability to scope to larger dataset, would still make it a valid candidate to build a baseline model. \n",
    "\n",
    "In this code, I would use keras as the deep learning framework. "
   ]
  },
  {
   "cell_type": "code",
   "execution_count": 143,
   "metadata": {},
   "outputs": [],
   "source": [
    "import numpy as np\n",
    "import pandas as pd\n",
    "import matplotlib\n",
    "import matplotlib.pyplot as plt\n",
    "%matplotlib inline\n",
    "matplotlib.rcParams['figure.figsize'] = (12.0, 12.0)\n",
    "\n",
    "from keras import Sequential \n",
    "from keras.layers import Dense,Input,Dropout,BatchNormalization, Activation\n",
    "from keras.models import Model\n",
    "from keras.callbacks import EarlyStopping\n",
    "from keras.regularizers import L1,L2,L1L2\n",
    "\n",
    "\n",
    "from sklearn.model_selection import train_test_split\n",
    "from sklearn.preprocessing import OneHotEncoder,StandardScaler\n",
    "from sklearn.compose import ColumnTransformer\n",
    "from sklearn.pipeline import make_pipeline\n",
    "from sklearn.metrics import mean_squared_error\n",
    "\n",
    "from tqdm.notebook import tqdm\n",
    "tqdm.pandas()\n"
   ]
  },
  {
   "cell_type": "code",
   "execution_count": 94,
   "metadata": {},
   "outputs": [],
   "source": [
    "## Common methods to load and preprocess data\n",
    "def load_data(filepath):\n",
    "    \n",
    "    columns = ['index','age','breed','last_vet_visit','hair_length','height','num_vet_visit','weight']\n",
    "    \n",
    "    return pd.read_csv(filepath,names=columns,header=0)\n",
    "\n",
    "def remove_negative_value(df, columns):\n",
    "    # df: dataframe of the data \n",
    "    # columns: list of columns need to remove negative value from \n",
    "    \n",
    "    if len(columns) == 0 and df.empty:\n",
    "        return df\n",
    "    \n",
    "    for col in columns:\n",
    "        df = df[df[col]>=0]\n",
    "    \n",
    "    return df\n",
    "\n",
    "\n",
    "def remove_extreme_outliers(df,columns):\n",
    "    #for values great then quantile 99.9% then it would be treated as exterm outlier \n",
    "    # df: dataframe of the data \n",
    "    # columns: list of columns need to remove negative value from \n",
    "    \n",
    "    if len(columns) == 0 and df.empty:\n",
    "        return df\n",
    "    \n",
    "    for col in columns:\n",
    "        limit = df[col].quantile(0.999)\n",
    "        df = df[df[col]<limit] \n",
    "        \n",
    "    return df\n",
    "\n",
    "# Create a data pipeline to handle Category and scale numerical data\n",
    "\n",
    "category_cols = ['breed']\n",
    "numerical_cols = ['hair_length','height','num_vet_visit','weight']\n",
    "\n",
    "pipeline = make_pipeline(\n",
    "    ColumnTransformer([\n",
    "        ('num', StandardScaler(),numerical_cols),\n",
    "        ('cat',OneHotEncoder(handle_unknown='ignore'),category_cols),\n",
    "        \n",
    "    ],remainder='passthrough')\n",
    ")\n",
    "\n",
    "def preprocess():\n",
    "    \n",
    "    filepath='data.csv'\n",
    "\n",
    "    df = load_data(filepath)\n",
    "\n",
    "    #remove  column \n",
    "    df = df.drop(columns=['index','last_vet_visit'])\n",
    "\n",
    "    #remove any negative value\n",
    "    df = remove_negative_value(df,['age','hair_length','height','num_vet_visit','weight'])\n",
    "\n",
    "    #remove any exterme outliers\n",
    "    df = remove_extreme_outliers(df,['age','hair_length','height','num_vet_visit','weight'])\n",
    " \n",
    "    #split training, test and validation set \n",
    "    test_size = 0.2\n",
    "    \n",
    "    df_train,df_test = train_test_split(df, test_size=test_size,random_state=1)\n",
    "\n",
    "    #using the pipeline to scale numerical column and onehot encoder for category column\n",
    "    df_train = pipeline.fit_transform(df_train)\n",
    "    df_test = pipeline.transform(df_test)\n",
    "\n",
    "    \n",
    "    \n",
    "    return df_train,df_test"
   ]
  },
  {
   "cell_type": "code",
   "execution_count": 96,
   "metadata": {},
   "outputs": [
    {
     "name": "stdout",
     "output_type": "stream",
     "text": [
      "train size (232, 11), test size (58, 11)\n"
     ]
    }
   ],
   "source": [
    "train,test=preprocess()\n",
    "print('train size {}, test size {}'.format(train.shape,test.shape))"
   ]
  },
  {
   "cell_type": "code",
   "execution_count": 97,
   "metadata": {},
   "outputs": [],
   "source": [
    "def split_x_y(dataset):\n",
    "    return dataset[:,:-1],dataset[:,-1]"
   ]
  },
  {
   "cell_type": "code",
   "execution_count": 98,
   "metadata": {},
   "outputs": [],
   "source": [
    "x_train,y_train = split_x_y(train)\n",
    "x_test,y_test = split_x_y(test)"
   ]
  },
  {
   "cell_type": "code",
   "execution_count": 138,
   "metadata": {},
   "outputs": [],
   "source": [
    "# evaluate overall model performance\n",
    "\n",
    "def evaluation(model,benchmark_score,history):\n",
    "    score = model.evaluate(x_test, y_test, verbose=0)\n",
    "    training_score = history.history['loss'][-1]\n",
    "    \n",
    "    print('Training Score:{}'.format(training_score))\n",
    "    print('Test Score:{}'.format(score))\n",
    "    if score < benchmark_score:\n",
    "        print('The current score:{} BEATS the bechmark score {}'.format(score,benchmark_score))\n",
    "        benchmark_score = score\n",
    "    else:\n",
    "        print('The current score:{} is NO BETTER the bechmark score {}'.format(score,benchmark_score))\n",
    "        \n",
    "    return benchmark_score\n",
    "        \n",
    "benchmark_score = 999"
   ]
  },
  {
   "cell_type": "code",
   "execution_count": 297,
   "metadata": {},
   "outputs": [],
   "source": [
    "def model_def(input_shape):\n",
    "    inputs = Input(shape=(input_shape,),name='input')\n",
    "    \n",
    "    hidden1 = Dense(20,name='hidden1',kernel_regularizer=L1L2(),)(inputs)\n",
    "#     batch1 = BatchNormalization(name=\"BatchNorm1\")(hidden1)\n",
    "#     act1 = Activation('relu',name='Act1')(batch1)\n",
    "    \n",
    "    \n",
    "    hidden2 = Dense(30,name='hidden2',kernel_regularizer=L1L2(),)(hidden1)\n",
    "#     batch2 = BatchNormalization(name='BatchNorm2')(hidden2)\n",
    "#     act2 = Activation('relu',name='Act2')(batch2)  \n",
    "    \n",
    "    drop1 = Dropout(0.3)(hidden2)\n",
    "    \n",
    "    hidden3 = Dense(20,name='hidden3',kernel_regularizer=L1L2(),)(drop1)\n",
    "#     batch3 = BatchNormalization(name='BatchNorm3')(hidden3)\n",
    "#     act3 = Activation('relu',name='Act3')(batch3)    \n",
    "    \n",
    "    hidden4 = Dense(30,name='hidden4',kernel_regularizer=L1L2(),)(hidden3)\n",
    "#     batch4 = BatchNormalization(name='BatchNorm4')(hidden4)\n",
    "#     act4 = Activation('relu',name='Act4')(batch4)\n",
    "\n",
    "    drop2 = Dropout(0.3)(hidden4)\n",
    "    \n",
    "    hidden5 = Dense(5,name='hidden5',kernel_regularizer=L1L2(),)(drop2)\n",
    "#     batch5 = BatchNormalization(name='BatchNorm5')(hidden5)\n",
    "#     act5 = Activation('relu',name='Act5')(batch5)\n",
    "    \n",
    "#     drop2 = Dropout(0.2)(hidden5)、、、、、、、、、、、、、\n",
    "    \n",
    "    outputs = Dense(1,activation='linear',name='output')(hidden5)\n",
    "    \n",
    "    model = Model(inputs=inputs, outputs=outputs)\n",
    "    return model"
   ]
  },
  {
   "cell_type": "code",
   "execution_count": 303,
   "metadata": {},
   "outputs": [
    {
     "name": "stdout",
     "output_type": "stream",
     "text": [
      "Model: \"model_148\"\n",
      "_________________________________________________________________\n",
      "Layer (type)                 Output Shape              Param #   \n",
      "=================================================================\n",
      "input (InputLayer)           [(None, 10)]              0         \n",
      "_________________________________________________________________\n",
      "hidden1 (Dense)              (None, 20)                220       \n",
      "_________________________________________________________________\n",
      "hidden2 (Dense)              (None, 30)                630       \n",
      "_________________________________________________________________\n",
      "dropout_77 (Dropout)         (None, 30)                0         \n",
      "_________________________________________________________________\n",
      "hidden3 (Dense)              (None, 20)                620       \n",
      "_________________________________________________________________\n",
      "hidden4 (Dense)              (None, 30)                630       \n",
      "_________________________________________________________________\n",
      "dropout_78 (Dropout)         (None, 30)                0         \n",
      "_________________________________________________________________\n",
      "hidden5 (Dense)              (None, 5)                 155       \n",
      "_________________________________________________________________\n",
      "output (Dense)               (None, 1)                 6         \n",
      "=================================================================\n",
      "Total params: 2,261\n",
      "Trainable params: 2,261\n",
      "Non-trainable params: 0\n",
      "_________________________________________________________________\n",
      "Training Score:12.350325584411621\n",
      "Test Score:9.048404693603516\n",
      "The current score:9.048404693603516 is NO BETTER the bechmark score 8.683425903320312\n"
     ]
    }
   ],
   "source": [
    "model= model_def(x_train.shape[1])\n",
    "model.compile(optimizer ='adam',\n",
    "              loss='mse')\n",
    "\n",
    "#add Early stop to control training \n",
    "earlyStopping = EarlyStopping(monitor='val_loss',\n",
    "                             patience=5,\n",
    "                             mode='auto',\n",
    "                             )\n",
    "\n",
    "model.summary()\n",
    "\n",
    "history = model.fit(x_train,y_train,\n",
    "          batch_size=20, \n",
    "          epochs=1000,\n",
    "          verbose=0,\n",
    "         shuffle=True,\n",
    "          validation_split=0.15,\n",
    "         callbacks=[earlyStopping]\n",
    "                   )\n",
    "\n",
    "benchmark_score = evaluation(model,benchmark_score,history)"
   ]
  },
  {
   "cell_type": "code",
   "execution_count": null,
   "metadata": {},
   "outputs": [],
   "source": [
    "history.history['loss'][-1]"
   ]
  },
  {
   "cell_type": "code",
   "execution_count": 274,
   "metadata": {},
   "outputs": [],
   "source": [
    "def plot_training_history_1(history):\n",
    "    plt.plot(history.history['loss'])\n",
    "    plt.title('Model loss')\n",
    "    plt.xlabel('Epoch')\n",
    "    plt.gca().set_ylim(0,150)\n",
    "    plt.gca().set_xlim(0,len(history.history['loss']))\n",
    "    plt.show()"
   ]
  },
  {
   "cell_type": "code",
   "execution_count": 301,
   "metadata": {},
   "outputs": [
    {
     "data": {
      "image/png": "[encoded data removed]",
      "text/plain": [
       "<Figure size 864x864 with 1 Axes>"
      ]
     },
     "metadata": {
      "needs_background": "light"
     },
     "output_type": "display_data"
    }
   ],
   "source": [
    "plot_training_history_1(history)"
   ]
  },
  {
   "cell_type": "code",
   "execution_count": null,
   "metadata": {},
   "outputs": [],
   "source": []
  }
 ],
 "metadata": {
  "kernelspec": {
   "display_name": "Python 3",
   "language": "python",
   "name": "python3"
  },
  "language_info": {
   "codemirror_mode": {
    "name": "ipython",
    "version": 3
   },
   "file_extension": ".py",
   "mimetype": "text/x-python",
   "name": "python",
   "nbconvert_exporter": "python",
   "pygments_lexer": "ipython3",
   "version": "3.7.9"
  }
 },
 "nbformat": 4,
 "nbformat_minor": 4
}
