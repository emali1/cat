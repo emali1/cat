{
 "cells": [
  {
   "cell_type": "markdown",
   "metadata": {},
   "source": [
    "## Additional Modeling using Neural Network.  \n",
    "\n",
    "It is a common approach for small amount of data, such as this homework, the data scientis would use traditional modeling techniques, such as SVM, ensemble learning algorithm or tree based algorithm. And leave neural network out of discussion. \n",
    "\n",
    "As short of learning samples, would make neural network harder to generalise and tuning parameters. \n",
    "\n",
    "But there are cerain good properties in Neural Network, such as auto feature engineering, ability to scope to larger dataset, would still make it a valid candidate to build a baseline model. \n",
    "\n",
    "In this code, I would use keras as the deep learning framework. "
   ]
  },
  {
   "cell_type": "code",
   "execution_count": 1,
   "metadata": {},
   "outputs": [],
   "source": [
    "import numpy as np\n",
    "import pandas as pd\n",
    "import matplotlib\n",
    "import matplotlib.pyplot as plt\n",
    "%matplotlib inline\n",
    "matplotlib.rcParams['figure.figsize'] = (12.0, 12.0)\n",
    "\n",
    "from keras import Sequential \n",
    "from keras.layers import Dense,Input,Dropout,BatchNormalization, Activation\n",
    "from keras.models import Model\n",
    "from keras.callbacks import EarlyStopping\n",
    "\n",
    "\n",
    "from sklearn.model_selection import train_test_split\n",
    "from sklearn.preprocessing import OneHotEncoder,StandardScaler\n",
    "from sklearn.compose import ColumnTransformer\n",
    "from sklearn.pipeline import make_pipeline\n",
    "from sklearn.metrics import mean_squared_error\n",
    "\n",
    "from tqdm.notebook import tqdm\n",
    "tqdm.pandas()\n"
   ]
  },
  {
   "cell_type": "code",
   "execution_count": 18,
   "metadata": {},
   "outputs": [],
   "source": [
    "## Common methods to load and preprocess data\n",
    "def load_data(filepath):\n",
    "    \n",
    "    columns = ['index','age','breed','last_vet_visit','hair_length','height','num_vet_visit','weight']\n",
    "    \n",
    "    return pd.read_csv(filepath,names=columns,header=0)\n",
    "\n",
    "def remove_negative_value(df, columns):\n",
    "    # df: dataframe of the data \n",
    "    # columns: list of columns need to remove negative value from \n",
    "    \n",
    "    if len(columns) == 0 and df.empty:\n",
    "        return df\n",
    "    \n",
    "    for col in columns:\n",
    "        df = df[df[col]>=0]\n",
    "    \n",
    "    return df\n",
    "\n",
    "\n",
    "def remove_extreme_outliers(df,columns):\n",
    "    #for values great then quantile 99.9% then it would be treated as exterm outlier \n",
    "    # df: dataframe of the data \n",
    "    # columns: list of columns need to remove negative value from \n",
    "    \n",
    "    if len(columns) == 0 and df.empty:\n",
    "        return df\n",
    "    \n",
    "    for col in columns:\n",
    "        limit = df[col].quantile(0.999)\n",
    "        df = df[df[col]<limit] \n",
    "        \n",
    "    return df\n",
    "\n",
    "# Create a data pipeline to handle Category and scale numerical data\n",
    "\n",
    "category_cols = ['breed']\n",
    "numerical_cols = ['hair_length','height','num_vet_visit','weight']\n",
    "\n",
    "pipeline = make_pipeline(\n",
    "    ColumnTransformer([\n",
    "        ('num', StandardScaler(),numerical_cols),\n",
    "        ('cat',OneHotEncoder(handle_unknown='ignore'),category_cols),\n",
    "        \n",
    "    ],remainder='passthrough')\n",
    ")\n",
    "\n",
    "def preprocess():\n",
    "    \n",
    "    filepath='data.csv'\n",
    "\n",
    "    df = load_data(filepath)\n",
    "\n",
    "    #remove  column \n",
    "    df = df.drop(columns=['index','last_vet_visit'])\n",
    "\n",
    "    #remove any negative value\n",
    "    df = remove_negative_value(df,['age','hair_length','height','num_vet_visit','weight'])\n",
    "\n",
    "    #remove any exterme outliers\n",
    "    df = remove_extreme_outliers(df,['age','hair_length','height','num_vet_visit','weight'])\n",
    " \n",
    "    #split training, test and validation set\n",
    "    val_size = 0.2 \n",
    "    test_size = 0.15\n",
    "    \n",
    "    df_temp,df_test = train_test_split(df, test_size=test_size,random_state=1)\n",
    "    df_train,df_val = train_test_split(df_temp, test_size=val_size,random_state=1)\n",
    "    \n",
    "#     print(df_train.head())\n",
    "    #using the pipeline to scale numerical column and onehot encoder for category column\n",
    "    df_train = pipeline.fit_transform(df_train)\n",
    "    df_test = pipeline.transform(df_test)\n",
    "    df_val = pipeline.transform(df_val)\n",
    "    \n",
    "    \n",
    "    return df_train,df_test,df_val"
   ]
  },
  {
   "cell_type": "code",
   "execution_count": 19,
   "metadata": {},
   "outputs": [
    {
     "name": "stdout",
     "output_type": "stream",
     "text": [
      "train size (196, 11), test size (44, 11), validation size (50, 11)\n"
     ]
    }
   ],
   "source": [
    "train,test,val=preprocess()\n",
    "print('train size {}, test size {}, validation size {}'.format(train.shape,test.shape,val.shape))"
   ]
  },
  {
   "cell_type": "code",
   "execution_count": 17,
   "metadata": {},
   "outputs": [
    {
     "data": {
      "text/plain": [
       "array([ 1.23069891, -0.2417887 , -0.30618053,  0.1385003 ,  0.        ,\n",
       "        0.        ,  1.        ,  0.        ,  0.        ,  0.        ,\n",
       "        6.        ])"
      ]
     },
     "execution_count": 17,
     "metadata": {},
     "output_type": "execute_result"
    }
   ],
   "source": [
    "train[0]"
   ]
  },
  {
   "cell_type": "code",
   "execution_count": 20,
   "metadata": {},
   "outputs": [
    {
     "data": {
      "text/plain": [
       "array([ 0.06500408,  0.88764686, -0.01055795, -1.35031461,  0.        ,\n",
       "        0.        ,  0.        ,  0.        ,  0.        ,  1.        ,\n",
       "        8.        ])"
      ]
     },
     "execution_count": 20,
     "metadata": {},
     "output_type": "execute_result"
    }
   ],
   "source": [
    "test[0]"
   ]
  },
  {
   "cell_type": "code",
   "execution_count": 21,
   "metadata": {},
   "outputs": [
    {
     "data": {
      "text/plain": [
       "array([-0.90472114, -0.76036489, -1.19304827,  0.63477194,  0.        ,\n",
       "        0.        ,  0.        ,  0.        ,  0.        ,  1.        ,\n",
       "        7.        ])"
      ]
     },
     "execution_count": 21,
     "metadata": {},
     "output_type": "execute_result"
    }
   ],
   "source": [
    "val[0]\n",
    "\n"
   ]
  },
  {
   "cell_type": "code",
   "execution_count": 23,
   "metadata": {},
   "outputs": [],
   "source": [
    "def split_x_y(dataset):\n",
    "    return dataset[:,:-1],dataset[:,-1]"
   ]
  },
  {
   "cell_type": "code",
   "execution_count": 24,
   "metadata": {},
   "outputs": [],
   "source": [
    "x_train,y_train = split_x_y(train)"
   ]
  },
  {
   "cell_type": "code",
   "execution_count": 25,
   "metadata": {},
   "outputs": [
    {
     "name": "stdout",
     "output_type": "stream",
     "text": [
      "(196, 10),(196,)\n"
     ]
    }
   ],
   "source": [
    "print('{},{}'.format(x_train.shape,y_train.shape))"
   ]
  },
  {
   "cell_type": "code",
   "execution_count": 39,
   "metadata": {},
   "outputs": [],
   "source": [
    "def model_def(input_shape):\n",
    "    model = Sequential()\n",
    "    model.add(Dense(input_dim=input_shape,units=20,activation=\"relu\"))\n",
    "    model.add(Dense(units=20,activation='relu'))\n",
    "    model.add(Dense(units=1,activation='linear'))\n",
    "    return model"
   ]
  },
  {
   "cell_type": "code",
   "execution_count": 47,
   "metadata": {},
   "outputs": [
    {
     "name": "stdout",
     "output_type": "stream",
     "text": [
      "Model: \"sequential_6\"\n",
      "_________________________________________________________________\n",
      "Layer (type)                 Output Shape              Param #   \n",
      "=================================================================\n",
      "dense_13 (Dense)             (None, 20)                220       \n",
      "_________________________________________________________________\n",
      "dense_14 (Dense)             (None, 20)                420       \n",
      "_________________________________________________________________\n",
      "dense_15 (Dense)             (None, 1)                 21        \n",
      "=================================================================\n",
      "Total params: 661\n",
      "Trainable params: 661\n",
      "Non-trainable params: 0\n",
      "_________________________________________________________________\n"
     ]
    }
   ],
   "source": [
    "model= model_def(x_train.shape[1])\n",
    "model.compile(optimizer ='adam',\n",
    "              loss='mean_squared_error')\n",
    "model.summary()"
   ]
  },
  {
   "cell_type": "code",
   "execution_count": 48,
   "metadata": {},
   "outputs": [
    {
     "name": "stdout",
     "output_type": "stream",
     "text": [
      "Epoch 1/100\n",
      "7/7 [==============================] - 0s 2ms/step - loss: 93.9381\n",
      "Epoch 2/100\n",
      "7/7 [==============================] - 0s 2ms/step - loss: 90.1665\n",
      "Epoch 3/100\n",
      "7/7 [==============================] - 0s 2ms/step - loss: 85.7706\n",
      "Epoch 4/100\n",
      "7/7 [==============================] - 0s 2ms/step - loss: 86.5713\n",
      "Epoch 5/100\n",
      "7/7 [==============================] - 0s 2ms/step - loss: 82.9273\n",
      "Epoch 6/100\n",
      "7/7 [==============================] - 0s 3ms/step - loss: 79.7994\n",
      "Epoch 7/100\n",
      "7/7 [==============================] - 0s 3ms/step - loss: 74.0938\n",
      "Epoch 8/100\n",
      "7/7 [==============================] - 0s 3ms/step - loss: 73.1286\n",
      "Epoch 9/100\n",
      "7/7 [==============================] - 0s 3ms/step - loss: 64.7927\n",
      "Epoch 10/100\n",
      "7/7 [==============================] - 0s 2ms/step - loss: 65.4070\n",
      "Epoch 11/100\n",
      "7/7 [==============================] - 0s 3ms/step - loss: 61.2539\n",
      "Epoch 12/100\n",
      "7/7 [==============================] - 0s 3ms/step - loss: 58.3816\n",
      "Epoch 13/100\n",
      "7/7 [==============================] - 0s 2ms/step - loss: 52.5474\n",
      "Epoch 14/100\n",
      "7/7 [==============================] - 0s 3ms/step - loss: 48.0822\n",
      "Epoch 15/100\n",
      "7/7 [==============================] - 0s 2ms/step - loss: 40.5364\n",
      "Epoch 16/100\n",
      "7/7 [==============================] - ETA: 0s - loss: 42.77 - 0s 3ms/step - loss: 39.1923\n",
      "Epoch 17/100\n",
      "7/7 [==============================] - 0s 2ms/step - loss: 33.2950\n",
      "Epoch 18/100\n",
      "7/7 [==============================] - 0s 2ms/step - loss: 26.6981\n",
      "Epoch 19/100\n",
      "7/7 [==============================] - 0s 3ms/step - loss: 23.9132\n",
      "Epoch 20/100\n",
      "7/7 [==============================] - 0s 3ms/step - loss: 21.0922\n",
      "Epoch 21/100\n",
      "7/7 [==============================] - 0s 2ms/step - loss: 15.7881\n",
      "Epoch 22/100\n",
      "7/7 [==============================] - 0s 3ms/step - loss: 14.2478\n",
      "Epoch 23/100\n",
      "7/7 [==============================] - 0s 3ms/step - loss: 12.3458\n",
      "Epoch 24/100\n",
      "7/7 [==============================] - 0s 2ms/step - loss: 11.0316\n",
      "Epoch 25/100\n",
      "7/7 [==============================] - 0s 2ms/step - loss: 10.6538\n",
      "Epoch 26/100\n",
      "7/7 [==============================] - 0s 2ms/step - loss: 11.5725\n",
      "Epoch 27/100\n",
      "7/7 [==============================] - 0s 3ms/step - loss: 10.5050\n",
      "Epoch 28/100\n",
      "7/7 [==============================] - 0s 3ms/step - loss: 10.2217\n",
      "Epoch 29/100\n",
      "7/7 [==============================] - 0s 3ms/step - loss: 9.1896\n",
      "Epoch 30/100\n",
      "7/7 [==============================] - 0s 3ms/step - loss: 10.4494\n",
      "Epoch 31/100\n",
      "7/7 [==============================] - 0s 3ms/step - loss: 10.6000\n",
      "Epoch 32/100\n",
      "7/7 [==============================] - 0s 3ms/step - loss: 9.1001\n",
      "Epoch 33/100\n",
      "7/7 [==============================] - 0s 3ms/step - loss: 9.5171\n",
      "Epoch 34/100\n",
      "7/7 [==============================] - 0s 3ms/step - loss: 9.1142\n",
      "Epoch 35/100\n",
      "7/7 [==============================] - 0s 3ms/step - loss: 9.4088\n",
      "Epoch 36/100\n",
      "7/7 [==============================] - 0s 3ms/step - loss: 10.1797\n",
      "Epoch 37/100\n",
      "7/7 [==============================] - 0s 2ms/step - loss: 9.7079\n",
      "Epoch 38/100\n",
      "7/7 [==============================] - 0s 3ms/step - loss: 9.3824\n",
      "Epoch 39/100\n",
      "7/7 [==============================] - 0s 5ms/step - loss: 9.0334\n",
      "Epoch 40/100\n",
      "7/7 [==============================] - 0s 2ms/step - loss: 9.0652\n",
      "Epoch 41/100\n",
      "7/7 [==============================] - 0s 3ms/step - loss: 10.0530\n",
      "Epoch 42/100\n",
      "7/7 [==============================] - 0s 2ms/step - loss: 10.3184\n",
      "Epoch 43/100\n",
      "7/7 [==============================] - 0s 3ms/step - loss: 8.9958\n",
      "Epoch 44/100\n",
      "7/7 [==============================] - 0s 3ms/step - loss: 9.0843\n",
      "Epoch 45/100\n",
      "7/7 [==============================] - 0s 3ms/step - loss: 8.7143\n",
      "Epoch 46/100\n",
      "7/7 [==============================] - 0s 3ms/step - loss: 8.7267\n",
      "Epoch 47/100\n",
      "7/7 [==============================] - 0s 4ms/step - loss: 8.3895\n",
      "Epoch 48/100\n",
      "7/7 [==============================] - 0s 4ms/step - loss: 9.5051\n",
      "Epoch 49/100\n",
      "7/7 [==============================] - 0s 3ms/step - loss: 9.4866\n",
      "Epoch 50/100\n",
      "7/7 [==============================] - 0s 3ms/step - loss: 9.2036\n",
      "Epoch 51/100\n",
      "7/7 [==============================] - 0s 3ms/step - loss: 7.5516\n",
      "Epoch 52/100\n",
      "7/7 [==============================] - 0s 3ms/step - loss: 8.8516\n",
      "Epoch 53/100\n",
      "7/7 [==============================] - 0s 3ms/step - loss: 7.8938\n",
      "Epoch 54/100\n",
      "7/7 [==============================] - 0s 3ms/step - loss: 8.6330\n",
      "Epoch 55/100\n",
      "7/7 [==============================] - 0s 4ms/step - loss: 8.6616\n",
      "Epoch 56/100\n",
      "7/7 [==============================] - 0s 3ms/step - loss: 8.2282\n",
      "Epoch 57/100\n",
      "7/7 [==============================] - 0s 2ms/step - loss: 8.7622\n",
      "Epoch 58/100\n",
      "7/7 [==============================] - 0s 3ms/step - loss: 9.3896\n",
      "Epoch 59/100\n",
      "7/7 [==============================] - 0s 3ms/step - loss: 8.0371\n",
      "Epoch 60/100\n",
      "7/7 [==============================] - 0s 3ms/step - loss: 8.7986\n",
      "Epoch 61/100\n",
      "7/7 [==============================] - 0s 2ms/step - loss: 8.6736\n",
      "Epoch 62/100\n",
      "7/7 [==============================] - 0s 3ms/step - loss: 7.1584\n",
      "Epoch 63/100\n",
      "7/7 [==============================] - 0s 3ms/step - loss: 7.7687\n",
      "Epoch 64/100\n",
      "7/7 [==============================] - 0s 3ms/step - loss: 8.9652\n",
      "Epoch 65/100\n",
      "7/7 [==============================] - 0s 3ms/step - loss: 8.4670\n",
      "Epoch 66/100\n",
      "7/7 [==============================] - 0s 3ms/step - loss: 7.7164\n",
      "Epoch 67/100\n",
      "7/7 [==============================] - 0s 3ms/step - loss: 7.5972\n",
      "Epoch 68/100\n",
      "7/7 [==============================] - 0s 4ms/step - loss: 7.7644\n",
      "Epoch 69/100\n",
      "7/7 [==============================] - 0s 2ms/step - loss: 7.5115\n",
      "Epoch 70/100\n",
      "7/7 [==============================] - 0s 2ms/step - loss: 8.5193\n",
      "Epoch 71/100\n",
      "7/7 [==============================] - 0s 2ms/step - loss: 8.0006\n",
      "Epoch 72/100\n",
      "7/7 [==============================] - 0s 2ms/step - loss: 8.4266\n",
      "Epoch 73/100\n",
      "7/7 [==============================] - 0s 3ms/step - loss: 8.7283\n",
      "Epoch 74/100\n",
      "7/7 [==============================] - 0s 4ms/step - loss: 8.7760\n",
      "Epoch 75/100\n",
      "7/7 [==============================] - 0s 3ms/step - loss: 8.0265\n",
      "Epoch 76/100\n",
      "7/7 [==============================] - 0s 2ms/step - loss: 8.4933\n",
      "Epoch 77/100\n",
      "7/7 [==============================] - 0s 3ms/step - loss: 8.0322\n",
      "Epoch 78/100\n",
      "7/7 [==============================] - 0s 3ms/step - loss: 8.0861\n",
      "Epoch 79/100\n",
      "7/7 [==============================] - 0s 3ms/step - loss: 7.0227\n",
      "Epoch 80/100\n",
      "7/7 [==============================] - 0s 3ms/step - loss: 7.9565\n",
      "Epoch 81/100\n",
      "7/7 [==============================] - 0s 2ms/step - loss: 7.8544\n",
      "Epoch 82/100\n",
      "7/7 [==============================] - 0s 2ms/step - loss: 7.6552\n",
      "Epoch 83/100\n",
      "7/7 [==============================] - 0s 2ms/step - loss: 7.5467\n",
      "Epoch 84/100\n",
      "7/7 [==============================] - 0s 2ms/step - loss: 9.1963\n",
      "Epoch 85/100\n",
      "7/7 [==============================] - 0s 3ms/step - loss: 7.1428\n",
      "Epoch 86/100\n",
      "7/7 [==============================] - 0s 3ms/step - loss: 8.6273\n",
      "Epoch 87/100\n",
      "7/7 [==============================] - 0s 3ms/step - loss: 7.0499\n",
      "Epoch 88/100\n",
      "7/7 [==============================] - 0s 3ms/step - loss: 7.4021\n",
      "Epoch 89/100\n",
      "7/7 [==============================] - 0s 3ms/step - loss: 6.5561\n",
      "Epoch 90/100\n",
      "7/7 [==============================] - 0s 3ms/step - loss: 8.3531\n",
      "Epoch 91/100\n",
      "7/7 [==============================] - 0s 3ms/step - loss: 8.1802\n",
      "Epoch 92/100\n",
      "7/7 [==============================] - 0s 4ms/step - loss: 8.0083\n",
      "Epoch 93/100\n",
      "7/7 [==============================] - 0s 4ms/step - loss: 7.6625\n",
      "Epoch 94/100\n",
      "7/7 [==============================] - 0s 3ms/step - loss: 8.0050\n",
      "Epoch 95/100\n",
      "7/7 [==============================] - 0s 3ms/step - loss: 7.8733\n",
      "Epoch 96/100\n",
      "7/7 [==============================] - 0s 3ms/step - loss: 8.3852\n",
      "Epoch 97/100\n",
      "7/7 [==============================] - 0s 3ms/step - loss: 7.4129\n",
      "Epoch 98/100\n",
      "7/7 [==============================] - 0s 3ms/step - loss: 7.9138\n",
      "Epoch 99/100\n",
      "7/7 [==============================] - 0s 3ms/step - loss: 7.6148\n",
      "Epoch 100/100\n",
      "7/7 [==============================] - 0s 3ms/step - loss: 7.2265\n"
     ]
    }
   ],
   "source": [
    "history=model.fit(x_train,y_train, batch_size=30, epochs=100) "
   ]
  },
  {
   "cell_type": "code",
   "execution_count": 45,
   "metadata": {},
   "outputs": [],
   "source": [
    "def plot_training_history_1(history):\n",
    "    plt.plot(history.history['loss'])\n",
    "    plt.title('Model loss')\n",
    "    plt.xlabel('Epoch')\n",
    "    plt.gca().set_ylim(0,100)\n",
    "    plt.gca().set_xlim(0,len(history.history['loss']))\n",
    "    plt.show()"
   ]
  },
  {
   "cell_type": "code",
   "execution_count": 46,
   "metadata": {},
   "outputs": [
    {
     "data": {
      "image/png": "[encoded data removed]",
      "text/plain": [
       "<Figure size 864x864 with 1 Axes>"
      ]
     },
     "metadata": {
      "needs_background": "light"
     },
     "output_type": "display_data"
    }
   ],
   "source": [
    "plot_training_history_1(history)"
   ]
  }
 ],
 "metadata": {
  "kernelspec": {
   "display_name": "Python 3",
   "language": "python",
   "name": "python3"
  },
  "language_info": {
   "codemirror_mode": {
    "name": "ipython",
    "version": 3
   },
   "file_extension": ".py",
   "mimetype": "text/x-python",
   "name": "python",
   "nbconvert_exporter": "python",
   "pygments_lexer": "ipython3",
   "version": "3.7.9"
  }
 },
 "nbformat": 4,
 "nbformat_minor": 4
}
