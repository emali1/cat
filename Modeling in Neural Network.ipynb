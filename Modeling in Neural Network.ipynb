{
 "cells": [
  {
   "cell_type": "code",
   "execution_count": 1,
   "metadata": {},
   "outputs": [
    {
     "name": "stdout",
     "output_type": "stream",
     "text": [
      "Requirement already satisfied, skipping upgrade: numpy in /Users/mali/anaconda3/lib/python3.6/site-packages (from torch) (1.16.2)\r\n"
     ]
    }
   ],
   "source": [
    "!pip install --upgrade torch | tail -n 1"
   ]
  },
  {
   "cell_type": "code",
   "execution_count": 2,
   "metadata": {},
   "outputs": [
    {
     "name": "stdout",
     "output_type": "stream",
     "text": [
      "Requirement already satisfied, skipping upgrade: oauthlib>=3.0.0 in /Users/mali/anaconda3/lib/python3.6/site-packages (from requests-oauthlib>=0.7.0->google-auth-oauthlib<0.5,>=0.4.1->tensorboard) (3.1.0)\r\n"
     ]
    }
   ],
   "source": [
    "!pip install --upgrade tensorboard | tail -n 1"
   ]
  },
  {
   "cell_type": "code",
   "execution_count": 227,
   "metadata": {},
   "outputs": [],
   "source": [
    "import torch \n",
    "import numpy as np\n",
    "import pandas as pd\n",
    "import matplotlib\n",
    "import matplotlib.pyplot as plt\n",
    "%matplotlib inline\n",
    "matplotlib.rcParams['figure.figsize'] = (12.0, 12.0)\n",
    "\n",
    "import torch\n",
    "import torch.nn as nn\n",
    "import torch.nn.functional as F\n",
    "import torch.optim as optim\n",
    "from torch.utils.data import DataLoader\n",
    "\n",
    "from sklearn.model_selection import train_test_split\n",
    "from sklearn.preprocessing import OneHotEncoder,StandardScaler\n",
    "from sklearn.compose import ColumnTransformer\n",
    "from sklearn.pipeline import make_pipeline\n",
    "from sklearn.metrics import mean_squared_error\n",
    "\n",
    "from tqdm.notebook import tqdm\n",
    "tqdm.pandas()"
   ]
  },
  {
   "cell_type": "code",
   "execution_count": 272,
   "metadata": {},
   "outputs": [],
   "source": [
    "# #standarised and encode columns\n",
    "# category_cols = ['breed']\n",
    "# numerical_cols = ['hair_length','height','num_vet_visit','weight']\n",
    "\n",
    "# transformer = make_pipeline(\n",
    "#     ColumnTransformer([\n",
    "#         ('num', StandardScaler(), numerical_cols),\n",
    "#         ('cat', OneHotEncoder(handle_unknown='ignore'), category_cols),    \n",
    "#     ])\n",
    "# ) \n",
    "\n",
    "def load_data(filepath):\n",
    "    \n",
    "    columns = ['index','age','breed','last_vet_visit','hair_length','height','num_vet_visit','weight']\n",
    "    \n",
    "    return pd.read_csv(filepath,names=columns,header=0)\n",
    "\n",
    "def remove_negative_value(df, columns):\n",
    "    # df: dataframe of the data \n",
    "    # columns: list of columns need to remove negative value from \n",
    "    \n",
    "    if len(columns) == 0 and df.empty:\n",
    "        return df\n",
    "    \n",
    "    for col in columns:\n",
    "        df = df[df[col]>=0]\n",
    "    \n",
    "    return df\n",
    "\n",
    "\n",
    "def remove_extreme_outliers(df,columns):\n",
    "    #for values great then quantile 99.9% then it would be treated as exterm outlier \n",
    "    # df: dataframe of the data \n",
    "    # columns: list of columns need to remove negative value from \n",
    "    \n",
    "    if len(columns) == 0 and df.empty:\n",
    "        return df\n",
    "    \n",
    "    for col in columns:\n",
    "        limit = df[col].quantile(0.999)\n",
    "        df = df[df[col]<limit] \n",
    "        \n",
    "    return df\n",
    "\n",
    "\n",
    "def preprocess():\n",
    "    \n",
    "    filepath='data.csv'\n",
    "\n",
    "    df = load_data(filepath)\n",
    "\n",
    "    #remove  column \n",
    "    df = df.drop(columns=['index','last_vet_visit'])\n",
    "\n",
    "    #remove any negative value\n",
    "    df = remove_negative_value(df,['age','hair_length','height','num_vet_visit','weight'])\n",
    "\n",
    "    #remove any exterme outliers\n",
    "    df = remove_extreme_outliers(df,['age','hair_length','height','num_vet_visit','weight'])\n",
    "    \n",
    "    \n",
    "#     transformed = transformer.fit_transform(df)\n",
    "\n",
    "    \n",
    "    \n",
    "    #split training, test and validation set\n",
    "    val_size = 0.15 \n",
    "    test_size = 0.15\n",
    "    \n",
    "    df_temp,df_test = train_test_split(df, test_size=test_size,random_state=1)\n",
    "    df_train,df_val = train_test_split(df_temp, test_size=val_size,random_state=1)\n",
    "    \n",
    "    return df_train,df_test,df_val"
   ]
  },
  {
   "cell_type": "code",
   "execution_count": 273,
   "metadata": {},
   "outputs": [
    {
     "name": "stdout",
     "output_type": "stream",
     "text": [
      "train size (209, 6), test size (44, 6), validation size (37, 6)\n"
     ]
    }
   ],
   "source": [
    "train,test,val=preprocess()\n",
    "print('train size {}, test size {}, validation size {}'.format(train.shape,test.shape,val.shape))"
   ]
  },
  {
   "cell_type": "code",
   "execution_count": 274,
   "metadata": {},
   "outputs": [],
   "source": [
    "#Dataset class\n",
    "class CatDataset(torch.utils.data.Dataset):\n",
    "    \n",
    "    category_cols = ['breed']\n",
    "    numerical_cols = ['hair_length','height','num_vet_visit','weight']\n",
    "\n",
    "\n",
    "    def initTransformer(self):\n",
    "        return make_pipeline(\n",
    "            ColumnTransformer([\n",
    "                ('num', StandardScaler(), numerical_cols),\n",
    "                ('cat', OneHotEncoder(handle_unknown='ignore'), category_cols),    \n",
    "            ])\n",
    "        )\n",
    "        \n",
    "    def get_transformer(self):\n",
    "        return self.transformer\n",
    "    \n",
    "    def __init__(self, df, transformer=None):\n",
    "        #self.labels = labels\n",
    "        #self.list_IDs = list_IDs\n",
    "        super().__init__()\n",
    "        self.df = df\n",
    "        \n",
    "        if transformer is None:\n",
    "            self.transformer = self.initTransformer()\n",
    "            self.transformer.fit(df)\n",
    "        else:\n",
    "            self.transformer = transformer\n",
    "\n",
    "    def __len__(self):\n",
    "        return self.df.shape[0]\n",
    "\n",
    "    def __getitem__(self, index):\n",
    "\n",
    "        # Load data and get label\n",
    "#         print(self.df.iloc[[index]]['age'].values)\n",
    "        y = torch.tensor(self.df.iloc[[index]]['age'].values,dtype=torch.float32)\n",
    "#         print(self.transformer.transform(self.df.iloc[[index]].drop(columns=['age'])))\n",
    "        X = torch.tensor(self.transformer.transform(self.df.iloc[[index]].drop(columns=['age'])),dtype=torch.float32)\n",
    "        \n",
    "\n",
    "        return X, y"
   ]
  },
  {
   "cell_type": "code",
   "execution_count": 375,
   "metadata": {},
   "outputs": [
    {
     "name": "stdout",
     "output_type": "stream",
     "text": [
      "52 44 37\n"
     ]
    }
   ],
   "source": [
    "trainDS = CatDataset(train)\n",
    "transformer = trainDS.get_transformer()\n",
    "testDS = CatDataset(test,transformer)\n",
    "valDS = CatDataset(val,transformer)\n",
    "\n",
    "# Parameters\n",
    "params = {'batch_size': 4,\n",
    "          'shuffle': True,\n",
    "          'drop_last': True}\n",
    "\n",
    "trainDL = DataLoader(trainDS, **params)\n",
    "\n",
    "testDL = DataLoader(testDS)\n",
    "valDL = DataLoader(valDS)\n",
    "\n",
    "print(len(trainDL), len(testDL), len(valDL))"
   ]
  },
  {
   "cell_type": "code",
   "execution_count": 376,
   "metadata": {},
   "outputs": [
    {
     "name": "stdout",
     "output_type": "stream",
     "text": [
      "torch.Size([1, 1, 10])\n"
     ]
    }
   ],
   "source": [
    "X, y = next(iter(valDL))\n",
    "# print(X)\n",
    "print(X.shape)"
   ]
  },
  {
   "cell_type": "code",
   "execution_count": 410,
   "metadata": {},
   "outputs": [],
   "source": [
    "# Model Class\n",
    "# Fully connected neural network with three hidden layer\n",
    "class FeedForward(nn.Module):\n",
    "    \n",
    "    @staticmethod\n",
    "    def init_weights(m):\n",
    "        if type(m) == nn.Linear:\n",
    "            torch.nn.init.xavier_uniform_(m.weight)\n",
    "            m.bias.data.fill_(0.01)    \n",
    "    \n",
    "    def __init__(self, input_size):\n",
    "        super().__init__()\n",
    "        \n",
    "        self.net = nn.Sequential(\n",
    "            \n",
    "            nn.Linear(input_size, 20), \n",
    "            nn.ReLU(),\n",
    "            nn.BatchNorm1d(20),\n",
    "#             nn.Dropout(),\n",
    "            nn.Linear(20, 50),\n",
    "            nn.ReLU(),\n",
    "            nn.BatchNorm1d(50),\n",
    "#             nn.Dropout(),\n",
    "            nn.Linear(50, 20),\n",
    "            nn.ReLU(),\n",
    "            nn.BatchNorm1d(20),\n",
    "#             nn.Dropout(),\n",
    "            nn.Linear(20, 20),\n",
    "            nn.ReLU(),\n",
    "            nn.BatchNorm1d(20),            \n",
    "#             nn.Dropout(),\n",
    "            nn.Linear(20, 20),\n",
    "            nn.ReLU(),\n",
    "            nn.BatchNorm1d(20),            \n",
    "#             nn.Dropout(),            \n",
    "            nn.Linear(20, 1)\n",
    "        )\n",
    "        \n",
    "        self.net.apply(self.init_weights)\n",
    "    \n",
    "    def forward(self, X):\n",
    "        return self.net(X)\n",
    "    \n",
    "    def predict(self, X):\n",
    "        Y_pred = self.forward(X)\n",
    "        return Y_pred"
   ]
  },
  {
   "cell_type": "code",
   "execution_count": 411,
   "metadata": {},
   "outputs": [],
   "source": [
    "# Network params\n",
    "X, y = next(iter(trainDL))\n",
    "\n",
    "input_size = X.shape[2]\n",
    "# drop_out = 0.3\n",
    "# weight_decay = 0.001\n",
    "# batch_size = 4\n",
    "\n",
    "# size of hidden layers\n",
    "# learning_rate = 0.001\n",
    "\n",
    "# Early Stop parameters\n",
    "n_epochs_stop = 4\n",
    "epochs = 100"
   ]
  },
  {
   "cell_type": "code",
   "execution_count": 384,
   "metadata": {},
   "outputs": [],
   "source": [
    "device = torch.device('cuda' if torch.cuda.is_available() else 'cpu')\n",
    "\n",
    "model = FeedForward(input_size).to(device)\n",
    "\n",
    "loss_fn = torch.nn.MSELoss()\n",
    "\n",
    "# optimiser = torch.optim.Adam(model.parameters(), lr=learning_rate,weight_decay=weight_decay)\n",
    "optimiser = torch.optim.AdamW(model.parameters())"
   ]
  },
  {
   "cell_type": "code",
   "execution_count": 385,
   "metadata": {},
   "outputs": [
    {
     "name": "stdout",
     "output_type": "stream",
     "text": [
      "FeedForward(\n",
      "  (net): Sequential(\n",
      "    (0): Linear(in_features=10, out_features=20, bias=True)\n",
      "    (1): ReLU()\n",
      "    (2): BatchNorm1d(20, eps=1e-05, momentum=0.1, affine=True, track_running_stats=True)\n",
      "    (3): Linear(in_features=20, out_features=50, bias=True)\n",
      "    (4): ReLU()\n",
      "    (5): BatchNorm1d(50, eps=1e-05, momentum=0.1, affine=True, track_running_stats=True)\n",
      "    (6): Linear(in_features=50, out_features=20, bias=True)\n",
      "    (7): ReLU()\n",
      "    (8): BatchNorm1d(20, eps=1e-05, momentum=0.1, affine=True, track_running_stats=True)\n",
      "    (9): Linear(in_features=20, out_features=20, bias=True)\n",
      "    (10): ReLU()\n",
      "    (11): BatchNorm1d(20, eps=1e-05, momentum=0.1, affine=True, track_running_stats=True)\n",
      "    (12): Linear(in_features=20, out_features=20, bias=True)\n",
      "    (13): ReLU()\n",
      "    (14): BatchNorm1d(20, eps=1e-05, momentum=0.1, affine=True, track_running_stats=True)\n",
      "    (15): Linear(in_features=20, out_features=1, bias=True)\n",
      "  )\n",
      ")\n"
     ]
    }
   ],
   "source": [
    "print(model)\n"
   ]
  },
  {
   "cell_type": "code",
   "execution_count": 386,
   "metadata": {},
   "outputs": [
    {
     "data": {
      "application/vnd.jupyter.widget-view+json": {
       "model_id": "8a7f61c4423e4fd2a925dfe34fc21f12",
       "version_major": 2,
       "version_minor": 0
      },
      "text/plain": [
       "HBox(children=(FloatProgress(value=0.0, description='Training Progress', max=52.0, style=ProgressStyle(descrip…"
      ]
     },
     "metadata": {},
     "output_type": "display_data"
    },
    {
     "name": "stdout",
     "output_type": "stream",
     "text": [
      "\n",
      "epoch: 0, Training average loss: 90.33478604830228\n",
      "           Validation average loss: 64.41175218530603\n",
      "           Minimum Validation loss: 64.41175218530603\n"
     ]
    },
    {
     "data": {
      "application/vnd.jupyter.widget-view+json": {
       "model_id": "27bee694b8a740279758046fff3b3533",
       "version_major": 2,
       "version_minor": 0
      },
      "text/plain": [
       "HBox(children=(FloatProgress(value=0.0, description='Training Progress', max=52.0, style=ProgressStyle(descrip…"
      ]
     },
     "metadata": {},
     "output_type": "display_data"
    },
    {
     "name": "stdout",
     "output_type": "stream",
     "text": [
      "\n",
      "epoch: 1, Training average loss: 84.97130188575157\n",
      "           Validation average loss: 62.78866764661428\n",
      "           Minimum Validation loss: 62.78866764661428\n"
     ]
    },
    {
     "data": {
      "application/vnd.jupyter.widget-view+json": {
       "model_id": "1477b9885174437e90daa993f29989bc",
       "version_major": 2,
       "version_minor": 0
      },
      "text/plain": [
       "HBox(children=(FloatProgress(value=0.0, description='Training Progress', max=52.0, style=ProgressStyle(descrip…"
      ]
     },
     "metadata": {},
     "output_type": "display_data"
    },
    {
     "name": "stdout",
     "output_type": "stream",
     "text": [
      "\n",
      "epoch: 2, Training average loss: 77.88855673716618\n",
      "           Validation average loss: 57.06248365866171\n",
      "           Minimum Validation loss: 57.06248365866171\n"
     ]
    },
    {
     "data": {
      "application/vnd.jupyter.widget-view+json": {
       "model_id": "d1cb29cda2094db191d756a8634bc62f",
       "version_major": 2,
       "version_minor": 0
      },
      "text/plain": [
       "HBox(children=(FloatProgress(value=0.0, description='Training Progress', max=52.0, style=ProgressStyle(descrip…"
      ]
     },
     "metadata": {},
     "output_type": "display_data"
    },
    {
     "name": "stdout",
     "output_type": "stream",
     "text": [
      "\n",
      "epoch: 3, Training average loss: 70.82628191434421\n",
      "           Validation average loss: 47.56355919709077\n",
      "           Minimum Validation loss: 47.56355919709077\n"
     ]
    },
    {
     "data": {
      "application/vnd.jupyter.widget-view+json": {
       "model_id": "04caa533922b482784952d3b5524740e",
       "version_major": 2,
       "version_minor": 0
      },
      "text/plain": [
       "HBox(children=(FloatProgress(value=0.0, description='Training Progress', max=52.0, style=ProgressStyle(descrip…"
      ]
     },
     "metadata": {},
     "output_type": "display_data"
    },
    {
     "name": "stdout",
     "output_type": "stream",
     "text": [
      "\n",
      "epoch: 4, Training average loss: 61.63520321479211\n",
      "           Validation average loss: 41.27000631240977\n",
      "           Minimum Validation loss: 41.27000631240977\n"
     ]
    },
    {
     "data": {
      "application/vnd.jupyter.widget-view+json": {
       "model_id": "cf897183cb1d4961b39213bd6303489c",
       "version_major": 2,
       "version_minor": 0
      },
      "text/plain": [
       "HBox(children=(FloatProgress(value=0.0, description='Training Progress', max=52.0, style=ProgressStyle(descrip…"
      ]
     },
     "metadata": {},
     "output_type": "display_data"
    },
    {
     "name": "stdout",
     "output_type": "stream",
     "text": [
      "\n",
      "epoch: 5, Training average loss: 51.972349607027496\n",
      "           Validation average loss: 32.86344687197659\n",
      "           Minimum Validation loss: 32.86344687197659\n"
     ]
    },
    {
     "data": {
      "application/vnd.jupyter.widget-view+json": {
       "model_id": "096bcb73396041879e216dc695677d1d",
       "version_major": 2,
       "version_minor": 0
      },
      "text/plain": [
       "HBox(children=(FloatProgress(value=0.0, description='Training Progress', max=52.0, style=ProgressStyle(descrip…"
      ]
     },
     "metadata": {},
     "output_type": "display_data"
    },
    {
     "name": "stdout",
     "output_type": "stream",
     "text": [
      "\n",
      "epoch: 6, Training average loss: 42.11370244392982\n",
      "           Validation average loss: 22.778428209794534\n",
      "           Minimum Validation loss: 22.778428209794534\n"
     ]
    },
    {
     "data": {
      "application/vnd.jupyter.widget-view+json": {
       "model_id": "ac19b032075942e39418713814df23ae",
       "version_major": 2,
       "version_minor": 0
      },
      "text/plain": [
       "HBox(children=(FloatProgress(value=0.0, description='Training Progress', max=52.0, style=ProgressStyle(descrip…"
      ]
     },
     "metadata": {},
     "output_type": "display_data"
    },
    {
     "name": "stdout",
     "output_type": "stream",
     "text": [
      "\n",
      "epoch: 7, Training average loss: 32.25025667823278\n",
      "           Validation average loss: 19.80944683976673\n",
      "           Minimum Validation loss: 19.80944683976673\n"
     ]
    },
    {
     "data": {
      "application/vnd.jupyter.widget-view+json": {
       "model_id": "3211446e5e0c46c7a0b5cf9e66c8eecf",
       "version_major": 2,
       "version_minor": 0
      },
      "text/plain": [
       "HBox(children=(FloatProgress(value=0.0, description='Training Progress', max=52.0, style=ProgressStyle(descrip…"
      ]
     },
     "metadata": {},
     "output_type": "display_data"
    },
    {
     "name": "stdout",
     "output_type": "stream",
     "text": [
      "\n",
      "epoch: 8, Training average loss: 24.345980428732357\n",
      "           Validation average loss: 13.377848624931397\n",
      "           Minimum Validation loss: 13.377848624931397\n"
     ]
    },
    {
     "data": {
      "application/vnd.jupyter.widget-view+json": {
       "model_id": "15ac457bd5274f9a8bd5f4e1e4f2a6b3",
       "version_major": 2,
       "version_minor": 0
      },
      "text/plain": [
       "HBox(children=(FloatProgress(value=0.0, description='Training Progress', max=52.0, style=ProgressStyle(descrip…"
      ]
     },
     "metadata": {},
     "output_type": "display_data"
    },
    {
     "name": "stdout",
     "output_type": "stream",
     "text": [
      "\n",
      "epoch: 9, Training average loss: 19.236854805396153\n",
      "           Validation average loss: 10.973643019784012\n",
      "           Minimum Validation loss: 10.973643019784012\n"
     ]
    },
    {
     "data": {
      "application/vnd.jupyter.widget-view+json": {
       "model_id": "3cac190d6654406bb95cb935a1e5e6f9",
       "version_major": 2,
       "version_minor": 0
      },
      "text/plain": [
       "HBox(children=(FloatProgress(value=0.0, description='Training Progress', max=52.0, style=ProgressStyle(descrip…"
      ]
     },
     "metadata": {},
     "output_type": "display_data"
    },
    {
     "name": "stdout",
     "output_type": "stream",
     "text": [
      "\n",
      "epoch: 10, Training average loss: 14.531195069734867\n",
      "           Validation average loss: 8.421709440246214\n",
      "           Minimum Validation loss: 8.421709440246214\n"
     ]
    },
    {
     "data": {
      "application/vnd.jupyter.widget-view+json": {
       "model_id": "2d2d7fab8290464a95e71b8c24e8fb9f",
       "version_major": 2,
       "version_minor": 0
      },
      "text/plain": [
       "HBox(children=(FloatProgress(value=0.0, description='Training Progress', max=52.0, style=ProgressStyle(descrip…"
      ]
     },
     "metadata": {},
     "output_type": "display_data"
    },
    {
     "name": "stdout",
     "output_type": "stream",
     "text": [
      "\n",
      "epoch: 11, Training average loss: 12.194685518741608\n",
      "           Validation average loss: 7.626471651938266\n",
      "           Minimum Validation loss: 7.626471651938266\n"
     ]
    },
    {
     "data": {
      "application/vnd.jupyter.widget-view+json": {
       "model_id": "f0f2bf6ad5c0401fb3e53512c2999e5d",
       "version_major": 2,
       "version_minor": 0
      },
      "text/plain": [
       "HBox(children=(FloatProgress(value=0.0, description='Training Progress', max=52.0, style=ProgressStyle(descrip…"
      ]
     },
     "metadata": {},
     "output_type": "display_data"
    },
    {
     "name": "stdout",
     "output_type": "stream",
     "text": [
      "\n",
      "epoch: 12, Training average loss: 10.522196549635668\n",
      "           Validation average loss: 7.91366369867496\n",
      "           Minimum Validation loss: 7.626471651938266\n"
     ]
    },
    {
     "data": {
      "application/vnd.jupyter.widget-view+json": {
       "model_id": "47c77699b3614d8883a32288b135f3af",
       "version_major": 2,
       "version_minor": 0
      },
      "text/plain": [
       "HBox(children=(FloatProgress(value=0.0, description='Training Progress', max=52.0, style=ProgressStyle(descrip…"
      ]
     },
     "metadata": {},
     "output_type": "display_data"
    },
    {
     "name": "stdout",
     "output_type": "stream",
     "text": [
      "\n",
      "epoch: 13, Training average loss: 9.491260072359673\n",
      "           Validation average loss: 7.8701859721630765\n",
      "           Minimum Validation loss: 7.626471651938266\n"
     ]
    },
    {
     "data": {
      "application/vnd.jupyter.widget-view+json": {
       "model_id": "a3164317d411462dbb906a99aa80b418",
       "version_major": 2,
       "version_minor": 0
      },
      "text/plain": [
       "HBox(children=(FloatProgress(value=0.0, description='Training Progress', max=52.0, style=ProgressStyle(descrip…"
      ]
     },
     "metadata": {},
     "output_type": "display_data"
    },
    {
     "name": "stdout",
     "output_type": "stream",
     "text": [
      "\n",
      "epoch: 14, Training average loss: 9.70624220944368\n",
      "           Validation average loss: 7.1604152609896214\n",
      "           Minimum Validation loss: 7.1604152609896214\n"
     ]
    },
    {
     "data": {
      "application/vnd.jupyter.widget-view+json": {
       "model_id": "6e6737cfa7c84748bab3324d826c5f8c",
       "version_major": 2,
       "version_minor": 0
      },
      "text/plain": [
       "HBox(children=(FloatProgress(value=0.0, description='Training Progress', max=52.0, style=ProgressStyle(descrip…"
      ]
     },
     "metadata": {},
     "output_type": "display_data"
    },
    {
     "name": "stdout",
     "output_type": "stream",
     "text": [
      "\n",
      "epoch: 15, Training average loss: 10.604691706024683\n",
      "           Validation average loss: 6.792341632491632\n",
      "           Minimum Validation loss: 6.792341632491632\n"
     ]
    },
    {
     "data": {
      "application/vnd.jupyter.widget-view+json": {
       "model_id": "392cdd74b728453c9eacb1f9a415f9fa",
       "version_major": 2,
       "version_minor": 0
      },
      "text/plain": [
       "HBox(children=(FloatProgress(value=0.0, description='Training Progress', max=52.0, style=ProgressStyle(descrip…"
      ]
     },
     "metadata": {},
     "output_type": "display_data"
    },
    {
     "name": "stdout",
     "output_type": "stream",
     "text": [
      "\n",
      "epoch: 16, Training average loss: 8.555456809126413\n",
      "           Validation average loss: 8.375112926436437\n",
      "           Minimum Validation loss: 6.792341632491632\n"
     ]
    },
    {
     "data": {
      "application/vnd.jupyter.widget-view+json": {
       "model_id": "9906ff58a1d4484ea25f1a887a728935",
       "version_major": 2,
       "version_minor": 0
      },
      "text/plain": [
       "HBox(children=(FloatProgress(value=0.0, description='Training Progress', max=52.0, style=ProgressStyle(descrip…"
      ]
     },
     "metadata": {},
     "output_type": "display_data"
    },
    {
     "name": "stdout",
     "output_type": "stream",
     "text": [
      "\n",
      "epoch: 17, Training average loss: 9.50439665867732\n",
      "           Validation average loss: 7.452732675144059\n",
      "           Minimum Validation loss: 6.792341632491632\n"
     ]
    },
    {
     "data": {
      "application/vnd.jupyter.widget-view+json": {
       "model_id": "26f858f74b69402fb2e8c1a2778aef83",
       "version_major": 2,
       "version_minor": 0
      },
      "text/plain": [
       "HBox(children=(FloatProgress(value=0.0, description='Training Progress', max=52.0, style=ProgressStyle(descrip…"
      ]
     },
     "metadata": {},
     "output_type": "display_data"
    },
    {
     "name": "stdout",
     "output_type": "stream",
     "text": [
      "\n",
      "epoch: 18, Training average loss: 9.565552661052116\n",
      "           Validation average loss: 7.199851247809224\n",
      "           Minimum Validation loss: 6.792341632491632\n"
     ]
    },
    {
     "data": {
      "application/vnd.jupyter.widget-view+json": {
       "model_id": "a16be5d9be4440d2b034abab00267173",
       "version_major": 2,
       "version_minor": 0
      },
      "text/plain": [
       "HBox(children=(FloatProgress(value=0.0, description='Training Progress', max=52.0, style=ProgressStyle(descrip…"
      ]
     },
     "metadata": {},
     "output_type": "display_data"
    },
    {
     "name": "stdout",
     "output_type": "stream",
     "text": [
      "\n",
      "epoch: 19, Training average loss: 9.096251373107616\n",
      "           Validation average loss: 7.9397434644602445\n",
      "           Minimum Validation loss: 6.792341632491632\n",
      "           Early Stop!!!!! After 4 epochs validation loss not improving \n",
      "BlindTest loss: 9.651262426240878\n"
     ]
    }
   ],
   "source": [
    "def mean(l):\n",
    "    return sum(l)/len(l)\n",
    "\n",
    "epochs = 100\n",
    "\n",
    "results = []\n",
    "losses = {'epoch':[], 'training':[],'validation':[]}\n",
    "min_val_loss = 100\n",
    "epochs_no_improve = 0\n",
    "\n",
    "\n",
    "for i in range(epochs):\n",
    "    loss_t = []\n",
    "    model = model.train()\n",
    "    \n",
    "#     model.hidden = model.init_hidden()\n",
    "    t = tqdm(iter(trainDL), total=len(trainDL),desc='Training Progress')\n",
    "    for  itercount, (X, y) in enumerate(t):\n",
    "#     for  X, y in train_dataloader:\n",
    "#         X, y = X.to(device), y.to(device)\n",
    "        optimiser.zero_grad()\n",
    "#         model.hidden = model.init_hidden()\n",
    "\n",
    "        X = X.view(-1,input_size)\n",
    "        y_pred = model(X)\n",
    "\n",
    "\n",
    "        single_loss = loss_fn(y_pred, y)\n",
    "        single_loss.backward()\n",
    "        optimiser.step()\n",
    "        \n",
    "        loss_t.append(single_loss.item()) \n",
    "\n",
    "    \n",
    "    print('epoch: {}, Training average loss: {}'.format(i,mean(loss_t)))\n",
    "\n",
    "    \n",
    "    #evaluate model every epoch\n",
    "    model = model.eval()\n",
    "\n",
    "    loss_v = []\n",
    "    with torch.no_grad():\n",
    "        for X,y in valDL:\n",
    "            X, y = X.to(device), y.to(device)\n",
    "            X = X.view(-1,input_size)\n",
    "            y_pred = model(X)\n",
    "            single_loss = loss_fn(y_pred,y)\n",
    "            loss_v.append(single_loss.item())\n",
    "#         results = [y,y_pred]\n",
    "\n",
    "    print('           Validation average loss: {}'.format(mean(loss_v)))\n",
    "    \n",
    "    \n",
    "\n",
    "    \n",
    "    #store loss value\n",
    "    losses['epoch'].append(i)\n",
    "    losses['training'].append(mean(loss_t))\n",
    "    losses['validation'].append(mean(loss_v))\n",
    "    \n",
    "    #check early stop\n",
    "    if mean(loss_v) > min_val_loss:\n",
    "        epochs_no_improve += 1\n",
    "    else:\n",
    "        min_val_loss = mean(loss_v)\n",
    "        epochs_no_improve = 0\n",
    "        \n",
    "    print('           Minimum Validation loss: {}'.format(min_val_loss))\n",
    "        \n",
    "        \n",
    "    if epochs_no_improve >= n_epochs_stop:\n",
    "        print('           Early Stop!!!!! After {} epochs validation loss not improving '.format(epochs_no_improve))\n",
    "        break\n",
    "    \n",
    "\n",
    "#run blindTest set to get result\n",
    "model = model.eval()\n",
    "loss_bt = []\n",
    "\n",
    "with torch.no_grad():\n",
    "    for X,y in testDL:\n",
    "        X, y = X.to(device), y.to(device)\n",
    "        X = X.view(-1,input_size)\n",
    "        y_pred = model(X)\n",
    "        single_loss = loss_fn(y_pred,y)\n",
    "        loss_bt.append(single_loss.item())\n",
    "        results = [y,y_pred]\n",
    "#         print(y,y_pred)\n",
    "        \n",
    "    \n",
    "print('BlindTest loss: {}'.format(mean(loss_bt)))"
   ]
  },
  {
   "cell_type": "code",
   "execution_count": 387,
   "metadata": {},
   "outputs": [
    {
     "data": {
      "text/plain": [
       "<AxesSubplot:xlabel='epoch'>"
      ]
     },
     "execution_count": 387,
     "metadata": {},
     "output_type": "execute_result"
    },
    {
     "data": {
      "image/png": "[encoded data removed]",
      "text/plain": [
       "<Figure size 864x864 with 1 Axes>"
      ]
     },
     "metadata": {},
     "output_type": "display_data"
    }
   ],
   "source": [
    "#visualize training loss\n",
    "losses_df = pd.DataFrame(data=losses)\n",
    "\n",
    "losses_df.set_index('epoch').plot()"
   ]
  },
  {
   "cell_type": "code",
   "execution_count": 388,
   "metadata": {},
   "outputs": [],
   "source": [
    "## save model\n",
    "\n",
    "from joblib import dump, load\n",
    "transformer = trainDS.get_transformer()\n",
    "dump(transformer,'transformer_torch.joblib')\n",
    "\n",
    "\n",
    "torch.save(model, 'torchmodel')"
   ]
  }
 ],
 "metadata": {
  "kernelspec": {
   "display_name": "Python 3",
   "language": "python",
   "name": "python3"
  },
  "language_info": {
   "codemirror_mode": {
    "name": "ipython",
    "version": 3
   },
   "file_extension": ".py",
   "mimetype": "text/x-python",
   "name": "python",
   "nbconvert_exporter": "python",
   "pygments_lexer": "ipython3",
   "version": "3.6.5"
  }
 },
 "nbformat": 4,
 "nbformat_minor": 2
}
