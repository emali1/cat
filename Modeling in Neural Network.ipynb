{
 "cells": [
  {
   "cell_type": "markdown",
   "metadata": {},
   "source": [
    "## Additional Modeling using Neural Network.  \n",
    "\n",
    "It is a common approach for small amount of data, such as this homework, the data scientis would use traditional modeling techniques, such as SVM, ensemble learning algorithm or tree based algorithm. But leave neural network out of discussion. \n",
    "\n",
    "As short of learning samples, would make neural network harder to generalise and tuning parameters. \n",
    "\n",
    "But there are cerain good properties in Neural Network, such as auto feature engineering, ability to scope to larger dataset, would still make it a valid candidate to build a baseline model. \n",
    "\n",
    "In this code, I would use pytorch as my deep learning framework. "
   ]
  },
  {
   "cell_type": "code",
   "execution_count": 1,
   "metadata": {},
   "outputs": [
    {
     "name": "stdout",
     "output_type": "stream",
     "text": [
      "Requirement already satisfied, skipping upgrade: numpy in /Users/mali/anaconda3/lib/python3.6/site-packages (from torch) (1.16.2)\r\n"
     ]
    }
   ],
   "source": [
    "!pip install --upgrade torch | tail -n 1"
   ]
  },
  {
   "cell_type": "code",
   "execution_count": 2,
   "metadata": {},
   "outputs": [
    {
     "name": "stdout",
     "output_type": "stream",
     "text": [
      "Requirement already satisfied, skipping upgrade: oauthlib>=3.0.0 in /Users/mali/anaconda3/lib/python3.6/site-packages (from requests-oauthlib>=0.7.0->google-auth-oauthlib<0.5,>=0.4.1->tensorboard) (3.1.0)\r\n"
     ]
    }
   ],
   "source": [
    "!pip install --upgrade tensorboard | tail -n 1"
   ]
  },
  {
   "cell_type": "code",
   "execution_count": 3,
   "metadata": {},
   "outputs": [],
   "source": [
    "import torch \n",
    "import numpy as np\n",
    "import pandas as pd\n",
    "import matplotlib\n",
    "import matplotlib.pyplot as plt\n",
    "%matplotlib inline\n",
    "matplotlib.rcParams['figure.figsize'] = (12.0, 12.0)\n",
    "\n",
    "import torch\n",
    "import torch.nn as nn\n",
    "import torch.nn.functional as F\n",
    "import torch.optim as optim\n",
    "from torch.utils.data import DataLoader\n",
    "\n",
    "from sklearn.model_selection import train_test_split\n",
    "from sklearn.preprocessing import OneHotEncoder,StandardScaler\n",
    "from sklearn.compose import ColumnTransformer\n",
    "from sklearn.pipeline import make_pipeline\n",
    "from sklearn.metrics import mean_squared_error\n",
    "\n",
    "from tqdm.notebook import tqdm\n",
    "tqdm.pandas()"
   ]
  },
  {
   "cell_type": "code",
   "execution_count": 4,
   "metadata": {},
   "outputs": [],
   "source": [
    "## Common methods to load and preprocess data\n",
    "def load_data(filepath):\n",
    "    \n",
    "    columns = ['index','age','breed','last_vet_visit','hair_length','height','num_vet_visit','weight']\n",
    "    \n",
    "    return pd.read_csv(filepath,names=columns,header=0)\n",
    "\n",
    "def remove_negative_value(df, columns):\n",
    "    # df: dataframe of the data \n",
    "    # columns: list of columns need to remove negative value from \n",
    "    \n",
    "    if len(columns) == 0 and df.empty:\n",
    "        return df\n",
    "    \n",
    "    for col in columns:\n",
    "        df = df[df[col]>=0]\n",
    "    \n",
    "    return df\n",
    "\n",
    "\n",
    "def remove_extreme_outliers(df,columns):\n",
    "    #for values great then quantile 99.9% then it would be treated as exterm outlier \n",
    "    # df: dataframe of the data \n",
    "    # columns: list of columns need to remove negative value from \n",
    "    \n",
    "    if len(columns) == 0 and df.empty:\n",
    "        return df\n",
    "    \n",
    "    for col in columns:\n",
    "        limit = df[col].quantile(0.999)\n",
    "        df = df[df[col]<limit] \n",
    "        \n",
    "    return df\n",
    "\n",
    "\n",
    "def preprocess():\n",
    "    \n",
    "    filepath='data.csv'\n",
    "\n",
    "    df = load_data(filepath)\n",
    "\n",
    "    #remove  column \n",
    "    df = df.drop(columns=['index','last_vet_visit'])\n",
    "\n",
    "    #remove any negative value\n",
    "    df = remove_negative_value(df,['age','hair_length','height','num_vet_visit','weight'])\n",
    "\n",
    "    #remove any exterme outliers\n",
    "    df = remove_extreme_outliers(df,['age','hair_length','height','num_vet_visit','weight'])\n",
    " \n",
    "    #split training, test and validation set\n",
    "    val_size = 0.15 \n",
    "    test_size = 0.15\n",
    "    \n",
    "    df_temp,df_test = train_test_split(df, test_size=test_size,random_state=1)\n",
    "    df_train,df_val = train_test_split(df_temp, test_size=val_size,random_state=1)\n",
    "    \n",
    "    return df_train,df_test,df_val"
   ]
  },
  {
   "cell_type": "code",
   "execution_count": 5,
   "metadata": {},
   "outputs": [
    {
     "name": "stdout",
     "output_type": "stream",
     "text": [
      "train size (209, 6), test size (44, 6), validation size (37, 6)\n"
     ]
    }
   ],
   "source": [
    "train,test,val=preprocess()\n",
    "print('train size {}, test size {}, validation size {}'.format(train.shape,test.shape,val.shape))"
   ]
  },
  {
   "cell_type": "code",
   "execution_count": 6,
   "metadata": {},
   "outputs": [],
   "source": [
    "#Dataset class\n",
    "class CatDataset(torch.utils.data.Dataset):\n",
    "    \n",
    "    category_cols = ['breed']\n",
    "    numerical_cols = ['hair_length','height','num_vet_visit','weight']\n",
    "\n",
    "\n",
    "    def initTransformer(self):\n",
    "        return make_pipeline(\n",
    "            ColumnTransformer([\n",
    "                ('num', StandardScaler(), self.numerical_cols),\n",
    "                ('cat', OneHotEncoder(handle_unknown='ignore'), self.category_cols),    \n",
    "            ])\n",
    "        )\n",
    "        \n",
    "    def get_transformer(self):\n",
    "        return self.transformer\n",
    "    \n",
    "    def __init__(self, df, transformer=None):\n",
    "        super().__init__()\n",
    "        self.df = df\n",
    "        \n",
    "        if transformer is None:\n",
    "            self.transformer = self.initTransformer()\n",
    "            self.transformer.fit(df)\n",
    "        else:\n",
    "            self.transformer = transformer\n",
    "\n",
    "    def __len__(self):\n",
    "        return self.df.shape[0]\n",
    "\n",
    "    def __getitem__(self, index):\n",
    "\n",
    "        # Load data and get label\n",
    "        y = torch.tensor(self.df.iloc[[index]]['age'].values,dtype=torch.float32)\n",
    "        X = torch.tensor(self.transformer.transform(self.df.iloc[[index]].drop(columns=['age'])),dtype=torch.float32)\n",
    "\n",
    "        return X, y"
   ]
  },
  {
   "cell_type": "code",
   "execution_count": 7,
   "metadata": {},
   "outputs": [
    {
     "name": "stdout",
     "output_type": "stream",
     "text": [
      "52 44 37\n"
     ]
    }
   ],
   "source": [
    "trainDS = CatDataset(train)\n",
    "transformer = trainDS.get_transformer()\n",
    "testDS = CatDataset(test,transformer)\n",
    "valDS = CatDataset(val,transformer)\n",
    "\n",
    "# Parameters\n",
    "params = {'batch_size': 4,\n",
    "          'shuffle': True,\n",
    "          'drop_last': True}\n",
    "\n",
    "trainDL = DataLoader(trainDS, **params)\n",
    "\n",
    "testDL = DataLoader(testDS)\n",
    "valDL = DataLoader(valDS)\n",
    "\n",
    "print(len(trainDL), len(testDL), len(valDL))"
   ]
  },
  {
   "cell_type": "code",
   "execution_count": 8,
   "metadata": {},
   "outputs": [
    {
     "name": "stdout",
     "output_type": "stream",
     "text": [
      "torch.Size([1, 1, 10])\n"
     ]
    }
   ],
   "source": [
    "X, y = next(iter(valDL))\n",
    "# print(X)\n",
    "print(X.shape)"
   ]
  },
  {
   "cell_type": "code",
   "execution_count": 9,
   "metadata": {},
   "outputs": [],
   "source": [
    "# Model Class\n",
    "# Fully connected neural network with four hidden layers\n",
    "class FeedForward(nn.Module):\n",
    "    \n",
    "    @staticmethod\n",
    "    def init_weights(m):\n",
    "        if type(m) == nn.Linear:\n",
    "            torch.nn.init.xavier_uniform_(m.weight)\n",
    "            m.bias.data.fill_(0.01)    \n",
    "    \n",
    "    def __init__(self, input_size):\n",
    "        super().__init__()\n",
    "        \n",
    "        self.net = nn.Sequential(\n",
    "            \n",
    "            nn.Linear(input_size, 20), \n",
    "            nn.ReLU(),\n",
    "            nn.BatchNorm1d(20),\n",
    "#             nn.Dropout(),\n",
    "            nn.Linear(20, 50),\n",
    "            nn.ReLU(),\n",
    "            nn.BatchNorm1d(50),\n",
    "#             nn.Dropout(),\n",
    "            nn.Linear(50, 20),\n",
    "            nn.ReLU(),\n",
    "            nn.BatchNorm1d(20),\n",
    "#             nn.Dropout(),\n",
    "            nn.Linear(20, 20),\n",
    "            nn.ReLU(),\n",
    "            nn.BatchNorm1d(20),            \n",
    "#             nn.Dropout(),\n",
    "            nn.Linear(20, 20),\n",
    "            nn.ReLU(),\n",
    "            nn.BatchNorm1d(20),            \n",
    "#             nn.Dropout(),            \n",
    "            nn.Linear(20, 1)\n",
    "        )\n",
    "        \n",
    "        self.net.apply(self.init_weights)\n",
    "    \n",
    "    def forward(self, X):\n",
    "        return self.net(X)\n",
    "    \n",
    "    def predict(self, X):\n",
    "        Y_pred = self.forward(X)\n",
    "        return Y_pred"
   ]
  },
  {
   "cell_type": "code",
   "execution_count": 10,
   "metadata": {},
   "outputs": [],
   "source": [
    "# Network params\n",
    "X, y = next(iter(trainDL))\n",
    "input_size = X.shape[2]\n",
    "\n",
    "# Early Stop parameters\n",
    "n_epochs_stop = 4\n",
    "epochs = 100"
   ]
  },
  {
   "cell_type": "code",
   "execution_count": 20,
   "metadata": {},
   "outputs": [],
   "source": [
    "## create model class and set up optimiser\n",
    "device = torch.device('cuda' if torch.cuda.is_available() else 'cpu')\n",
    "\n",
    "model = FeedForward(input_size).to(device)\n",
    "\n",
    "loss_fn = torch.nn.MSELoss()\n",
    "\n",
    "# optimiser = torch.optim.Adam(model.parameters(), lr=learning_rate,weight_decay=weight_decay)\n",
    "optimiser = torch.optim.AdamW(model.parameters())"
   ]
  },
  {
   "cell_type": "code",
   "execution_count": 21,
   "metadata": {},
   "outputs": [
    {
     "name": "stdout",
     "output_type": "stream",
     "text": [
      "FeedForward(\n",
      "  (net): Sequential(\n",
      "    (0): Linear(in_features=10, out_features=20, bias=True)\n",
      "    (1): ReLU()\n",
      "    (2): BatchNorm1d(20, eps=1e-05, momentum=0.1, affine=True, track_running_stats=True)\n",
      "    (3): Linear(in_features=20, out_features=50, bias=True)\n",
      "    (4): ReLU()\n",
      "    (5): BatchNorm1d(50, eps=1e-05, momentum=0.1, affine=True, track_running_stats=True)\n",
      "    (6): Linear(in_features=50, out_features=20, bias=True)\n",
      "    (7): ReLU()\n",
      "    (8): BatchNorm1d(20, eps=1e-05, momentum=0.1, affine=True, track_running_stats=True)\n",
      "    (9): Linear(in_features=20, out_features=20, bias=True)\n",
      "    (10): ReLU()\n",
      "    (11): BatchNorm1d(20, eps=1e-05, momentum=0.1, affine=True, track_running_stats=True)\n",
      "    (12): Linear(in_features=20, out_features=20, bias=True)\n",
      "    (13): ReLU()\n",
      "    (14): BatchNorm1d(20, eps=1e-05, momentum=0.1, affine=True, track_running_stats=True)\n",
      "    (15): Linear(in_features=20, out_features=1, bias=True)\n",
      "  )\n",
      ")\n"
     ]
    }
   ],
   "source": [
    "print(model)\n"
   ]
  },
  {
   "cell_type": "code",
   "execution_count": 22,
   "metadata": {},
   "outputs": [
    {
     "data": {
      "application/vnd.jupyter.widget-view+json": {
       "model_id": "cfed2f48abe1485d8cecd5c35cee3c8e",
       "version_major": 2,
       "version_minor": 0
      },
      "text/plain": [
       "HBox(children=(FloatProgress(value=0.0, description='Training Progress', max=52.0, style=ProgressStyle(descrip…"
      ]
     },
     "metadata": {},
     "output_type": "display_data"
    },
    {
     "name": "stdout",
     "output_type": "stream",
     "text": [
      "\n",
      "epoch: 0, Training average loss: 90.69927200904259\n",
      "           Validation average loss: 70.70088066925874\n",
      "           Minimum Validation loss: 70.70088066925874\n"
     ]
    },
    {
     "data": {
      "application/vnd.jupyter.widget-view+json": {
       "model_id": "584d1e1398734c7bb39b177d1d38c1c9",
       "version_major": 2,
       "version_minor": 0
      },
      "text/plain": [
       "HBox(children=(FloatProgress(value=0.0, description='Training Progress', max=52.0, style=ProgressStyle(descrip…"
      ]
     },
     "metadata": {},
     "output_type": "display_data"
    },
    {
     "name": "stdout",
     "output_type": "stream",
     "text": [
      "\n",
      "epoch: 1, Training average loss: 86.05910807389479\n",
      "           Validation average loss: 67.6156555736387\n",
      "           Minimum Validation loss: 67.6156555736387\n"
     ]
    },
    {
     "data": {
      "application/vnd.jupyter.widget-view+json": {
       "model_id": "113ed3d04bef47eaa42709dd135c647a",
       "version_major": 2,
       "version_minor": 0
      },
      "text/plain": [
       "HBox(children=(FloatProgress(value=0.0, description='Training Progress', max=52.0, style=ProgressStyle(descrip…"
      ]
     },
     "metadata": {},
     "output_type": "display_data"
    },
    {
     "name": "stdout",
     "output_type": "stream",
     "text": [
      "\n",
      "epoch: 2, Training average loss: 79.09087408505954\n",
      "           Validation average loss: 60.1709544529786\n",
      "           Minimum Validation loss: 60.1709544529786\n"
     ]
    },
    {
     "data": {
      "application/vnd.jupyter.widget-view+json": {
       "model_id": "21bd8fe76fb347e68a4734fdd0b3f726",
       "version_major": 2,
       "version_minor": 0
      },
      "text/plain": [
       "HBox(children=(FloatProgress(value=0.0, description='Training Progress', max=52.0, style=ProgressStyle(descrip…"
      ]
     },
     "metadata": {},
     "output_type": "display_data"
    },
    {
     "name": "stdout",
     "output_type": "stream",
     "text": [
      "\n",
      "epoch: 3, Training average loss: 71.62323465714088\n",
      "           Validation average loss: 49.1098722146975\n",
      "           Minimum Validation loss: 49.1098722146975\n"
     ]
    },
    {
     "data": {
      "application/vnd.jupyter.widget-view+json": {
       "model_id": "e307abb665984da89d00eb5ca387ca13",
       "version_major": 2,
       "version_minor": 0
      },
      "text/plain": [
       "HBox(children=(FloatProgress(value=0.0, description='Training Progress', max=52.0, style=ProgressStyle(descrip…"
      ]
     },
     "metadata": {},
     "output_type": "display_data"
    },
    {
     "name": "stdout",
     "output_type": "stream",
     "text": [
      "\n",
      "epoch: 4, Training average loss: 64.6053707416241\n",
      "           Validation average loss: 46.74353164615663\n",
      "           Minimum Validation loss: 46.74353164615663\n"
     ]
    },
    {
     "data": {
      "application/vnd.jupyter.widget-view+json": {
       "model_id": "986933f50a0c4d99a87b8585d3962c62",
       "version_major": 2,
       "version_minor": 0
      },
      "text/plain": [
       "HBox(children=(FloatProgress(value=0.0, description='Training Progress', max=52.0, style=ProgressStyle(descrip…"
      ]
     },
     "metadata": {},
     "output_type": "display_data"
    },
    {
     "name": "stdout",
     "output_type": "stream",
     "text": [
      "\n",
      "epoch: 5, Training average loss: 54.355907660264236\n",
      "           Validation average loss: 35.71953115330355\n",
      "           Minimum Validation loss: 35.71953115330355\n"
     ]
    },
    {
     "data": {
      "application/vnd.jupyter.widget-view+json": {
       "model_id": "8c7ce058ebde460694e49a35217a97cf",
       "version_major": 2,
       "version_minor": 0
      },
      "text/plain": [
       "HBox(children=(FloatProgress(value=0.0, description='Training Progress', max=52.0, style=ProgressStyle(descrip…"
      ]
     },
     "metadata": {},
     "output_type": "display_data"
    },
    {
     "name": "stdout",
     "output_type": "stream",
     "text": [
      "\n",
      "epoch: 6, Training average loss: 43.379789737554695\n",
      "           Validation average loss: 25.655622639768833\n",
      "           Minimum Validation loss: 25.655622639768833\n"
     ]
    },
    {
     "data": {
      "application/vnd.jupyter.widget-view+json": {
       "model_id": "f9ca3575dd4b424b949f038e72578594",
       "version_major": 2,
       "version_minor": 0
      },
      "text/plain": [
       "HBox(children=(FloatProgress(value=0.0, description='Training Progress', max=52.0, style=ProgressStyle(descrip…"
      ]
     },
     "metadata": {},
     "output_type": "display_data"
    },
    {
     "name": "stdout",
     "output_type": "stream",
     "text": [
      "\n",
      "epoch: 7, Training average loss: 34.82572262103741\n",
      "           Validation average loss: 21.347897335886955\n",
      "           Minimum Validation loss: 21.347897335886955\n"
     ]
    },
    {
     "data": {
      "application/vnd.jupyter.widget-view+json": {
       "model_id": "d291840176c54a639f3ea47d9f132c73",
       "version_major": 2,
       "version_minor": 0
      },
      "text/plain": [
       "HBox(children=(FloatProgress(value=0.0, description='Training Progress', max=52.0, style=ProgressStyle(descrip…"
      ]
     },
     "metadata": {},
     "output_type": "display_data"
    },
    {
     "name": "stdout",
     "output_type": "stream",
     "text": [
      "\n",
      "epoch: 8, Training average loss: 26.127992613957478\n",
      "           Validation average loss: 13.1838089350762\n",
      "           Minimum Validation loss: 13.1838089350762\n"
     ]
    },
    {
     "data": {
      "application/vnd.jupyter.widget-view+json": {
       "model_id": "5e3876f06471439ca0feecbc4c37cbce",
       "version_major": 2,
       "version_minor": 0
      },
      "text/plain": [
       "HBox(children=(FloatProgress(value=0.0, description='Training Progress', max=52.0, style=ProgressStyle(descrip…"
      ]
     },
     "metadata": {},
     "output_type": "display_data"
    },
    {
     "name": "stdout",
     "output_type": "stream",
     "text": [
      "\n",
      "epoch: 9, Training average loss: 20.060340519134815\n",
      "           Validation average loss: 10.211386306739941\n",
      "           Minimum Validation loss: 10.211386306739941\n"
     ]
    },
    {
     "data": {
      "application/vnd.jupyter.widget-view+json": {
       "model_id": "9323aa90cea04c648b84b073d834cbfb",
       "version_major": 2,
       "version_minor": 0
      },
      "text/plain": [
       "HBox(children=(FloatProgress(value=0.0, description='Training Progress', max=52.0, style=ProgressStyle(descrip…"
      ]
     },
     "metadata": {},
     "output_type": "display_data"
    },
    {
     "name": "stdout",
     "output_type": "stream",
     "text": [
      "\n",
      "epoch: 10, Training average loss: 15.590388094003384\n",
      "           Validation average loss: 8.536996228522872\n",
      "           Minimum Validation loss: 8.536996228522872\n"
     ]
    },
    {
     "data": {
      "application/vnd.jupyter.widget-view+json": {
       "model_id": "2cb608c7e69f4713ad87838342c1be8d",
       "version_major": 2,
       "version_minor": 0
      },
      "text/plain": [
       "HBox(children=(FloatProgress(value=0.0, description='Training Progress', max=52.0, style=ProgressStyle(descrip…"
      ]
     },
     "metadata": {},
     "output_type": "display_data"
    },
    {
     "name": "stdout",
     "output_type": "stream",
     "text": [
      "\n",
      "epoch: 11, Training average loss: 13.324485771931135\n",
      "           Validation average loss: 6.7568029343163145\n",
      "           Minimum Validation loss: 6.7568029343163145\n"
     ]
    },
    {
     "data": {
      "application/vnd.jupyter.widget-view+json": {
       "model_id": "5e959229d62141a7ba84a618111067cf",
       "version_major": 2,
       "version_minor": 0
      },
      "text/plain": [
       "HBox(children=(FloatProgress(value=0.0, description='Training Progress', max=52.0, style=ProgressStyle(descrip…"
      ]
     },
     "metadata": {},
     "output_type": "display_data"
    },
    {
     "name": "stdout",
     "output_type": "stream",
     "text": [
      "\n",
      "epoch: 12, Training average loss: 11.259825410751196\n",
      "           Validation average loss: 7.9091915942829205\n",
      "           Minimum Validation loss: 6.7568029343163145\n"
     ]
    },
    {
     "data": {
      "application/vnd.jupyter.widget-view+json": {
       "model_id": "a0918fd7ffc440c3b4094e70450dd0f6",
       "version_major": 2,
       "version_minor": 0
      },
      "text/plain": [
       "HBox(children=(FloatProgress(value=0.0, description='Training Progress', max=52.0, style=ProgressStyle(descrip…"
      ]
     },
     "metadata": {},
     "output_type": "display_data"
    },
    {
     "name": "stdout",
     "output_type": "stream",
     "text": [
      "\n",
      "epoch: 13, Training average loss: 9.696986236251318\n",
      "           Validation average loss: 7.955369697886871\n",
      "           Minimum Validation loss: 6.7568029343163145\n"
     ]
    },
    {
     "data": {
      "application/vnd.jupyter.widget-view+json": {
       "model_id": "98450d549ddc4388b5c1798be303bbd9",
       "version_major": 2,
       "version_minor": 0
      },
      "text/plain": [
       "HBox(children=(FloatProgress(value=0.0, description='Training Progress', max=52.0, style=ProgressStyle(descrip…"
      ]
     },
     "metadata": {},
     "output_type": "display_data"
    },
    {
     "name": "stdout",
     "output_type": "stream",
     "text": [
      "\n",
      "epoch: 14, Training average loss: 9.907793723619902\n",
      "           Validation average loss: 9.490814668868945\n",
      "           Minimum Validation loss: 6.7568029343163145\n"
     ]
    },
    {
     "data": {
      "application/vnd.jupyter.widget-view+json": {
       "model_id": "495c9f03841543099cc36e65a565cbe2",
       "version_major": 2,
       "version_minor": 0
      },
      "text/plain": [
       "HBox(children=(FloatProgress(value=0.0, description='Training Progress', max=52.0, style=ProgressStyle(descrip…"
      ]
     },
     "metadata": {},
     "output_type": "display_data"
    },
    {
     "name": "stdout",
     "output_type": "stream",
     "text": [
      "\n",
      "epoch: 15, Training average loss: 9.360778072705635\n",
      "           Validation average loss: 9.231218764029846\n",
      "           Minimum Validation loss: 6.7568029343163145\n",
      "           Early Stop!!!!! After 4 epochs validation loss not improving \n",
      "BlindTest loss: 10.17384247600355\n"
     ]
    }
   ],
   "source": [
    "def mean(l):\n",
    "    return sum(l)/len(l)\n",
    "\n",
    "epochs = 100\n",
    "\n",
    "results = []\n",
    "losses = {'epoch':[], 'training':[],'validation':[]}\n",
    "min_val_loss = 100\n",
    "epochs_no_improve = 0\n",
    "\n",
    "\n",
    "for i in range(epochs):\n",
    "    loss_t = []\n",
    "    model = model.train()\n",
    "    \n",
    "    t = tqdm(iter(trainDL), total=len(trainDL),desc='Training Progress')\n",
    "    for  itercount, (X, y) in enumerate(t):\n",
    "        optimiser.zero_grad()\n",
    "\n",
    "        X = X.view(-1,input_size)\n",
    "        y_pred = model(X)\n",
    "\n",
    "\n",
    "        single_loss = loss_fn(y_pred, y)\n",
    "        single_loss.backward()\n",
    "        optimiser.step()\n",
    "        \n",
    "        loss_t.append(single_loss.item()) \n",
    "\n",
    "    \n",
    "    print('epoch: {}, Training average loss: {}'.format(i,mean(loss_t)))\n",
    "\n",
    "    \n",
    "    #evaluate model every epoch\n",
    "    model = model.eval()\n",
    "\n",
    "    loss_v = []\n",
    "    with torch.no_grad():\n",
    "        for X,y in valDL:\n",
    "            X, y = X.to(device), y.to(device)\n",
    "            X = X.view(-1,input_size)\n",
    "            y_pred = model(X)\n",
    "            single_loss = loss_fn(y_pred,y)\n",
    "            loss_v.append(single_loss.item())\n",
    "#         results = [y,y_pred]\n",
    "\n",
    "    print('           Validation average loss: {}'.format(mean(loss_v)))\n",
    "    \n",
    "    \n",
    "\n",
    "    \n",
    "    #store loss value\n",
    "    losses['epoch'].append(i)\n",
    "    losses['training'].append(mean(loss_t))\n",
    "    losses['validation'].append(mean(loss_v))\n",
    "    \n",
    "    #check early stop\n",
    "    if mean(loss_v) > min_val_loss:\n",
    "        epochs_no_improve += 1\n",
    "    else:\n",
    "        min_val_loss = mean(loss_v)\n",
    "        epochs_no_improve = 0\n",
    "        \n",
    "    print('           Minimum Validation loss: {}'.format(min_val_loss))\n",
    "        \n",
    "        \n",
    "    if epochs_no_improve >= n_epochs_stop:\n",
    "        print('           Early Stop!!!!! After {} epochs validation loss not improving '.format(epochs_no_improve))\n",
    "        break\n",
    "    \n",
    "\n",
    "#run blindTest set to get result\n",
    "model = model.eval()\n",
    "loss_bt = []\n",
    "\n",
    "with torch.no_grad():\n",
    "    for X,y in testDL:\n",
    "        X, y = X.to(device), y.to(device)\n",
    "        X = X.view(-1,input_size)\n",
    "        y_pred = model(X)\n",
    "        single_loss = loss_fn(y_pred,y)\n",
    "        loss_bt.append(single_loss.item())\n",
    "        results = [y,y_pred]\n",
    "#         print(y,y_pred)\n",
    "        \n",
    "    \n",
    "print('BlindTest loss: {}'.format(mean(loss_bt)))"
   ]
  },
  {
   "cell_type": "code",
   "execution_count": 23,
   "metadata": {},
   "outputs": [
    {
     "data": {
      "text/plain": [
       "<AxesSubplot:xlabel='epoch'>"
      ]
     },
     "execution_count": 23,
     "metadata": {},
     "output_type": "execute_result"
    },
    {
     "data": {
      "image/png": "[encoded data removed]",
      "text/plain": [
       "<Figure size 432x288 with 1 Axes>"
      ]
     },
     "metadata": {},
     "output_type": "display_data"
    }
   ],
   "source": [
    "#visualize training loss\n",
    "losses_df = pd.DataFrame(data=losses)\n",
    "\n",
    "losses_df.set_index('epoch').plot()"
   ]
  },
  {
   "cell_type": "code",
   "execution_count": 15,
   "metadata": {},
   "outputs": [],
   "source": [
    "## save model\n",
    "\n",
    "from joblib import dump, load\n",
    "transformer = trainDS.get_transformer()\n",
    "dump(transformer,'transformer_torch.joblib')\n",
    "\n",
    "\n",
    "torch.save(model, 'torchmodel')"
   ]
  },
  {
   "cell_type": "code",
   "execution_count": null,
   "metadata": {},
   "outputs": [],
   "source": []
  }
 ],
 "metadata": {
  "kernelspec": {
   "display_name": "Python 3",
   "language": "python",
   "name": "python3"
  },
  "language_info": {
   "codemirror_mode": {
    "name": "ipython",
    "version": 3
   },
   "file_extension": ".py",
   "mimetype": "text/x-python",
   "name": "python",
   "nbconvert_exporter": "python",
   "pygments_lexer": "ipython3",
   "version": "3.6.5"
  }
 },
 "nbformat": 4,
 "nbformat_minor": 2
}
