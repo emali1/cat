{
 "cells": [
  {
   "cell_type": "markdown",
   "metadata": {},
   "source": [
    "## Business Context\n",
    "\n",
    "** All the data science activities reside in a certain business context and serve specific business drivers. I would like to simulate a business context for this homework to help me to drive the solution **\n",
    "\n",
    "I assume our client is a national chain of vet clinics which are specialised in cat's health care services. The client has been in business for many years and has a group of loyal customers.  \n",
    "\n",
    "The client wants to strengthen their trust relationship with his customers and would like to provide personalised customer service to the pets owners, to generate the stickiness for the business, as well as discover up-selling opportunities. \n",
    "\n",
    "To serve the purpose, the client is in discussion with Capgemini Invent to consult how could they achieve this vision by using Data Science and Analytics."
   ]
  },
  {
   "cell_type": "markdown",
   "metadata": {},
   "source": [
    "## Business Hypothesis\n",
    "\n",
    "After the workshop with the client, the team has defined the following business hypothesis, to validate the business vision. \n",
    "\n",
    "If we can provide \n",
    "\t**clinic marketing and vet doctors**\n",
    "with \n",
    "\t**the knowledge of the lifespan of the client's cat,**\n",
    "then they will be able to \n",
    "- perform targeted market companion, such as our funeral service \n",
    "- provide suggestions and services to clients to extend their cat's life\n",
    "- monetise this service for other national vet clinic chain "
   ]
  },
  {
   "cell_type": "markdown",
   "metadata": {},
   "source": [
    "## Data Hypotheses \n",
    "\n",
    "Data hypothesis helps us to discover the data insights that would help us to validate the business hypothesis.\n",
    "\n",
    "In our case, we want to forecast cat's lifespan, so after discussing with SMEs and doing our studies, we would have **three data hypothesises** that potentially can help us to discover correlation or causation to the cat's lifespan. \n",
    "\n",
    "- 1. cat's Biology information, such as cat's breed, colour, weight, length, common death reason\n",
    "- 2. cat's lifestyle information, such as is the cats indoor or outdoor, active or calm, food options\n",
    "- 3. cat's health history, such as vet visit history, disease history, family health care history \n",
    "\n",
    "We are expecting the data from any of the above categories can help us to find patterns related to cat's lifespan. Hence, those would be the data sources we are after to start our experiment. "
   ]
  },
  {
   "cell_type": "markdown",
   "metadata": {},
   "source": [
    "## Collect Domain Knowledge, https://www.cat-breeds.com/\n",
    " \n",
    " Domain knowledge is crucial for us to analysis the data, as well as generaing meanful data hypohesis. \n",
    " \n",
    " **The best source of domain knowledge is always client's SME, however, we also need to conduct our own study.** \n",
    " \n",
    " Below are some information I found useful for this homework \n",
    " \n",
    " - Javanese 3.6 – 5.44 kg, Length:  Small to Medium, 8-12 yrs, Long/Short\n",
    " \n",
    " - Maine Coon 3.6- 5.44 kg, Length: Medium to Large, 9-13 yrs, Long\n",
    " \n",
    " - Manx 3.6- 5.44 kg, Length:  medium, 9-13 yrs, Short/Long \n",
    " \n",
    " - Rex 3.6 kg, Length: Small to Medium, 9-13 yrs, short\n",
    " \n",
    " - Siamese, 3.6 – 5.4 kg, Length: small to medium, 8-12 yrs, short\n",
    "\n",
    "\n",
    " Most cats reach their full adult weight and size by the end of the **first year.** https://www.catological.com/big-will-cat-get/\n",
    "\n",
    "\n",
    " 23–25 cm (9–10 in) in height  Wikipedia "
   ]
  },
  {
   "cell_type": "code",
   "execution_count": 1,
   "metadata": {},
   "outputs": [],
   "source": [
    "import pandas as pd\n",
    "%matplotlib inline\n",
    "\n",
    "import matplotlib\n",
    "import matplotlib.pyplot as plt\n",
    "%matplotlib inline\n",
    "matplotlib.rcParams['figure.figsize'] = (12.0, 12.0)"
   ]
  },
  {
   "cell_type": "code",
   "execution_count": 2,
   "metadata": {},
   "outputs": [],
   "source": [
    "data = pd.read_csv('data.csv')"
   ]
  },
  {
   "cell_type": "code",
   "execution_count": 3,
   "metadata": {},
   "outputs": [
    {
     "name": "stdout",
     "output_type": "stream",
     "text": [
      "<class 'pandas.core.frame.DataFrame'>\n",
      "RangeIndex: 300 entries, 0 to 299\n",
      "Data columns (total 8 columns):\n",
      " #   Column                  Non-Null Count  Dtype  \n",
      "---  ------                  --------------  -----  \n",
      " 0   Unnamed: 0              300 non-null    int64  \n",
      " 1   age at death            299 non-null    float64\n",
      " 2   breed                   300 non-null    object \n",
      " 3   date of last vet visit  300 non-null    object \n",
      " 4   hair length             299 non-null    float64\n",
      " 5   height                  300 non-null    float64\n",
      " 6   number of vet visits    300 non-null    int64  \n",
      " 7   weight                  300 non-null    float64\n",
      "dtypes: float64(4), int64(2), object(2)\n",
      "memory usage: 18.9+ KB\n"
     ]
    }
   ],
   "source": [
    "data.info()"
   ]
  },
  {
   "cell_type": "markdown",
   "metadata": {},
   "source": [
    "### Above information showed 7 columns in the provided data\n",
    "- first columns is the index of the record, no value for data experiment\n",
    "- 'age of death' is the targe column, detail analysis below \n",
    "- 'hair length','height','weight' is part of data hypothesis 1, more analysis later\n",
    "- 'date of last vet visit' and 'number of vet visites is part of data hypothesis 3"
   ]
  },
  {
   "cell_type": "code",
   "execution_count": 4,
   "metadata": {},
   "outputs": [
    {
     "data": {
      "text/html": [
       "<div>\n",
       "<style scoped>\n",
       "    .dataframe tbody tr th:only-of-type {\n",
       "        vertical-align: middle;\n",
       "    }\n",
       "\n",
       "    .dataframe tbody tr th {\n",
       "        vertical-align: top;\n",
       "    }\n",
       "\n",
       "    .dataframe thead th {\n",
       "        text-align: right;\n",
       "    }\n",
       "</style>\n",
       "<table border=\"1\" class=\"dataframe\">\n",
       "  <thead>\n",
       "    <tr style=\"text-align: right;\">\n",
       "      <th></th>\n",
       "      <th>Unnamed: 0</th>\n",
       "      <th>age at death</th>\n",
       "      <th>hair length</th>\n",
       "      <th>height</th>\n",
       "      <th>number of vet visits</th>\n",
       "      <th>weight</th>\n",
       "    </tr>\n",
       "  </thead>\n",
       "  <tbody>\n",
       "    <tr>\n",
       "      <th>count</th>\n",
       "      <td>300.000000</td>\n",
       "      <td>299.000000</td>\n",
       "      <td>2.990000e+02</td>\n",
       "      <td>300.000000</td>\n",
       "      <td>300.000000</td>\n",
       "      <td>300.000000</td>\n",
       "    </tr>\n",
       "    <tr>\n",
       "      <th>mean</th>\n",
       "      <td>149.500000</td>\n",
       "      <td>9.006689</td>\n",
       "      <td>3.027706e+09</td>\n",
       "      <td>20.498442</td>\n",
       "      <td>8.296667</td>\n",
       "      <td>3.957667</td>\n",
       "    </tr>\n",
       "    <tr>\n",
       "      <th>std</th>\n",
       "      <td>86.746758</td>\n",
       "      <td>2.892937</td>\n",
       "      <td>5.235392e+10</td>\n",
       "      <td>5.107386</td>\n",
       "      <td>3.820643</td>\n",
       "      <td>2.033624</td>\n",
       "    </tr>\n",
       "    <tr>\n",
       "      <th>min</th>\n",
       "      <td>0.000000</td>\n",
       "      <td>0.000000</td>\n",
       "      <td>6.904537e-01</td>\n",
       "      <td>5.077179</td>\n",
       "      <td>-1.000000</td>\n",
       "      <td>0.000000</td>\n",
       "    </tr>\n",
       "    <tr>\n",
       "      <th>25%</th>\n",
       "      <td>74.750000</td>\n",
       "      <td>7.000000</td>\n",
       "      <td>9.377535e-01</td>\n",
       "      <td>16.958241</td>\n",
       "      <td>6.000000</td>\n",
       "      <td>2.000000</td>\n",
       "    </tr>\n",
       "    <tr>\n",
       "      <th>50%</th>\n",
       "      <td>149.500000</td>\n",
       "      <td>9.000000</td>\n",
       "      <td>1.003253e+00</td>\n",
       "      <td>20.825805</td>\n",
       "      <td>8.000000</td>\n",
       "      <td>4.000000</td>\n",
       "    </tr>\n",
       "    <tr>\n",
       "      <th>75%</th>\n",
       "      <td>224.250000</td>\n",
       "      <td>11.000000</td>\n",
       "      <td>1.067127e+00</td>\n",
       "      <td>24.043067</td>\n",
       "      <td>11.000000</td>\n",
       "      <td>5.250000</td>\n",
       "    </tr>\n",
       "    <tr>\n",
       "      <th>max</th>\n",
       "      <td>299.000000</td>\n",
       "      <td>18.000000</td>\n",
       "      <td>9.052840e+11</td>\n",
       "      <td>33.043014</td>\n",
       "      <td>19.000000</td>\n",
       "      <td>10.000000</td>\n",
       "    </tr>\n",
       "  </tbody>\n",
       "</table>\n",
       "</div>"
      ],
      "text/plain": [
       "       Unnamed: 0  age at death   hair length      height  \\\n",
       "count  300.000000    299.000000  2.990000e+02  300.000000   \n",
       "mean   149.500000      9.006689  3.027706e+09   20.498442   \n",
       "std     86.746758      2.892937  5.235392e+10    5.107386   \n",
       "min      0.000000      0.000000  6.904537e-01    5.077179   \n",
       "25%     74.750000      7.000000  9.377535e-01   16.958241   \n",
       "50%    149.500000      9.000000  1.003253e+00   20.825805   \n",
       "75%    224.250000     11.000000  1.067127e+00   24.043067   \n",
       "max    299.000000     18.000000  9.052840e+11   33.043014   \n",
       "\n",
       "       number of vet visits      weight  \n",
       "count            300.000000  300.000000  \n",
       "mean               8.296667    3.957667  \n",
       "std                3.820643    2.033624  \n",
       "min               -1.000000    0.000000  \n",
       "25%                6.000000    2.000000  \n",
       "50%                8.000000    4.000000  \n",
       "75%               11.000000    5.250000  \n",
       "max               19.000000   10.000000  "
      ]
     },
     "execution_count": 4,
     "metadata": {},
     "output_type": "execute_result"
    }
   ],
   "source": [
    "data.describe()"
   ]
  },
  {
   "cell_type": "code",
   "execution_count": 5,
   "metadata": {},
   "outputs": [],
   "source": [
    "#remove the index column\n",
    "data = data.drop(columns=[data.columns[0]])"
   ]
  },
  {
   "cell_type": "code",
   "execution_count": 6,
   "metadata": {},
   "outputs": [
    {
     "data": {
      "text/html": [
       "<div>\n",
       "<style scoped>\n",
       "    .dataframe tbody tr th:only-of-type {\n",
       "        vertical-align: middle;\n",
       "    }\n",
       "\n",
       "    .dataframe tbody tr th {\n",
       "        vertical-align: top;\n",
       "    }\n",
       "\n",
       "    .dataframe thead th {\n",
       "        text-align: right;\n",
       "    }\n",
       "</style>\n",
       "<table border=\"1\" class=\"dataframe\">\n",
       "  <thead>\n",
       "    <tr style=\"text-align: right;\">\n",
       "      <th></th>\n",
       "      <th>age at death</th>\n",
       "      <th>breed</th>\n",
       "      <th>date of last vet visit</th>\n",
       "      <th>hair length</th>\n",
       "      <th>height</th>\n",
       "      <th>number of vet visits</th>\n",
       "      <th>weight</th>\n",
       "    </tr>\n",
       "  </thead>\n",
       "  <tbody>\n",
       "    <tr>\n",
       "      <th>0</th>\n",
       "      <td>7.0</td>\n",
       "      <td>Siamese</td>\n",
       "      <td>2009-08-02 14:02:18</td>\n",
       "      <td>0.883886</td>\n",
       "      <td>21.611951</td>\n",
       "      <td>5</td>\n",
       "      <td>4.0</td>\n",
       "    </tr>\n",
       "    <tr>\n",
       "      <th>1</th>\n",
       "      <td>9.0</td>\n",
       "      <td>Siamese</td>\n",
       "      <td>2013-11-27 19:08:52</td>\n",
       "      <td>1.221535</td>\n",
       "      <td>26.451956</td>\n",
       "      <td>10</td>\n",
       "      <td>4.0</td>\n",
       "    </tr>\n",
       "    <tr>\n",
       "      <th>2</th>\n",
       "      <td>8.0</td>\n",
       "      <td>Manx</td>\n",
       "      <td>2016-01-12 04:39:24</td>\n",
       "      <td>0.967718</td>\n",
       "      <td>18.540191</td>\n",
       "      <td>10</td>\n",
       "      <td>5.0</td>\n",
       "    </tr>\n",
       "    <tr>\n",
       "      <th>3</th>\n",
       "      <td>8.0</td>\n",
       "      <td>Maine Coon</td>\n",
       "      <td>2000-11-24 18:51:18</td>\n",
       "      <td>1.090641</td>\n",
       "      <td>16.564362</td>\n",
       "      <td>12</td>\n",
       "      <td>7.0</td>\n",
       "    </tr>\n",
       "    <tr>\n",
       "      <th>4</th>\n",
       "      <td>8.0</td>\n",
       "      <td>Maine Coon</td>\n",
       "      <td>2014-07-03 22:17:26</td>\n",
       "      <td>1.004712</td>\n",
       "      <td>22.535495</td>\n",
       "      <td>7</td>\n",
       "      <td>7.0</td>\n",
       "    </tr>\n",
       "  </tbody>\n",
       "</table>\n",
       "</div>"
      ],
      "text/plain": [
       "   age at death       breed date of last vet visit  hair length     height  \\\n",
       "0           7.0     Siamese    2009-08-02 14:02:18     0.883886  21.611951   \n",
       "1           9.0     Siamese    2013-11-27 19:08:52     1.221535  26.451956   \n",
       "2           8.0        Manx    2016-01-12 04:39:24     0.967718  18.540191   \n",
       "3           8.0  Maine Coon    2000-11-24 18:51:18     1.090641  16.564362   \n",
       "4           8.0  Maine Coon    2014-07-03 22:17:26     1.004712  22.535495   \n",
       "\n",
       "   number of vet visits  weight  \n",
       "0                     5     4.0  \n",
       "1                    10     4.0  \n",
       "2                    10     5.0  \n",
       "3                    12     7.0  \n",
       "4                     7     7.0  "
      ]
     },
     "execution_count": 6,
     "metadata": {},
     "output_type": "execute_result"
    }
   ],
   "source": [
    "data.head()"
   ]
  },
  {
   "cell_type": "markdown",
   "metadata": {},
   "source": [
    "## Deep dive at \"age at death\"\n",
    "we learned the average life span of a cat is **\"in the neighborhood of 15 years\"**"
   ]
  },
  {
   "cell_type": "code",
   "execution_count": 7,
   "metadata": {},
   "outputs": [],
   "source": [
    "age = data[data.columns[0]]"
   ]
  },
  {
   "cell_type": "code",
   "execution_count": 8,
   "metadata": {},
   "outputs": [
    {
     "data": {
      "text/plain": [
       "<AxesSubplot:ylabel='Frequency'>"
      ]
     },
     "execution_count": 8,
     "metadata": {},
     "output_type": "execute_result"
    },
    {
     "data": {
      "image/png": "[encoded data removed]",
      "text/plain": [
       "<Figure size 864x864 with 1 Axes>"
      ]
     },
     "metadata": {
      "needs_background": "light"
     },
     "output_type": "display_data"
    }
   ],
   "source": [
    "age.plot.hist(bins=15)"
   ]
  },
  {
   "cell_type": "code",
   "execution_count": 9,
   "metadata": {},
   "outputs": [
    {
     "data": {
      "text/plain": [
       "count    299.000000\n",
       "mean       9.006689\n",
       "std        2.892937\n",
       "min        0.000000\n",
       "25%        7.000000\n",
       "50%        9.000000\n",
       "75%       11.000000\n",
       "max       18.000000\n",
       "Name: age at death, dtype: float64"
      ]
     },
     "execution_count": 9,
     "metadata": {},
     "output_type": "execute_result"
    }
   ],
   "source": [
    "age.describe()"
   ]
  },
  {
   "cell_type": "code",
   "execution_count": 10,
   "metadata": {},
   "outputs": [
    {
     "data": {
      "text/plain": [
       "<AxesSubplot:>"
      ]
     },
     "execution_count": 10,
     "metadata": {},
     "output_type": "execute_result"
    },
    {
     "data": {
      "image/png": "[encoded data removed]",
      "text/plain": [
       "<Figure size 864x864 with 1 Axes>"
      ]
     },
     "metadata": {
      "needs_background": "light"
     },
     "output_type": "display_data"
    }
   ],
   "source": [
    "age.plot.box()"
   ]
  },
  {
   "cell_type": "markdown",
   "metadata": {},
   "source": [
    "### with an average death age at 9, those cats died mostly at younger age\n",
    "\n",
    "- SME Question: why those cats are died at younger age? \n",
    "\n",
    "This means the **data hypothesis 3** might play an important role in affecting cat's lifespan"
   ]
  },
  {
   "cell_type": "code",
   "execution_count": 11,
   "metadata": {},
   "outputs": [
    {
     "data": {
      "text/html": [
       "<div>\n",
       "<style scoped>\n",
       "    .dataframe tbody tr th:only-of-type {\n",
       "        vertical-align: middle;\n",
       "    }\n",
       "\n",
       "    .dataframe tbody tr th {\n",
       "        vertical-align: top;\n",
       "    }\n",
       "\n",
       "    .dataframe thead th {\n",
       "        text-align: right;\n",
       "    }\n",
       "</style>\n",
       "<table border=\"1\" class=\"dataframe\">\n",
       "  <thead>\n",
       "    <tr style=\"text-align: right;\">\n",
       "      <th></th>\n",
       "      <th>age at death</th>\n",
       "      <th>breed</th>\n",
       "      <th>date of last vet visit</th>\n",
       "      <th>hair length</th>\n",
       "      <th>height</th>\n",
       "      <th>number of vet visits</th>\n",
       "      <th>weight</th>\n",
       "    </tr>\n",
       "  </thead>\n",
       "  <tbody>\n",
       "    <tr>\n",
       "      <th>164</th>\n",
       "      <td>0.0</td>\n",
       "      <td>Rex</td>\n",
       "      <td>2007-07-20 22:28:24</td>\n",
       "      <td>0.936867</td>\n",
       "      <td>14.317804</td>\n",
       "      <td>9</td>\n",
       "      <td>1.0</td>\n",
       "    </tr>\n",
       "    <tr>\n",
       "      <th>288</th>\n",
       "      <td>0.0</td>\n",
       "      <td>Javanese</td>\n",
       "      <td>2003-04-07 10:02:49</td>\n",
       "      <td>0.950070</td>\n",
       "      <td>24.419723</td>\n",
       "      <td>10</td>\n",
       "      <td>3.0</td>\n",
       "    </tr>\n",
       "  </tbody>\n",
       "</table>\n",
       "</div>"
      ],
      "text/plain": [
       "     age at death     breed date of last vet visit  hair length     height  \\\n",
       "164           0.0       Rex    2007-07-20 22:28:24     0.936867  14.317804   \n",
       "288           0.0  Javanese    2003-04-07 10:02:49     0.950070  24.419723   \n",
       "\n",
       "     number of vet visits  weight  \n",
       "164                     9     1.0  \n",
       "288                    10     3.0  "
      ]
     },
     "execution_count": 11,
     "metadata": {},
     "output_type": "execute_result"
    }
   ],
   "source": [
    "## look at the death at age 0, which is an outlier of the data\n",
    "age0 = data[data['age at death']==0]\n",
    "age0"
   ]
  },
  {
   "cell_type": "markdown",
   "metadata": {},
   "source": [
    "### those records might be dirty data, the cat seems too big for their age "
   ]
  },
  {
   "cell_type": "code",
   "execution_count": 12,
   "metadata": {},
   "outputs": [
    {
     "data": {
      "text/plain": [
       "count            300\n",
       "unique             6\n",
       "top       Maine Coon\n",
       "freq              68\n",
       "Name: breed, dtype: object"
      ]
     },
     "execution_count": 12,
     "metadata": {},
     "output_type": "execute_result"
    }
   ],
   "source": [
    "## cat breed, https://www.petcarerx.com/article/the-average-lifespan-of-a-cat-breed-by-breed-chart/1698\n",
    "data.breed.describe()"
   ]
  },
  {
   "cell_type": "markdown",
   "metadata": {},
   "source": [
    "### A good distribution of cat breed, however, only one sample for Donald type \n",
    "## TODO, handle the categories with significant less samples , such as change those category names to \"others\""
   ]
  },
  {
   "cell_type": "code",
   "execution_count": 13,
   "metadata": {},
   "outputs": [
    {
     "data": {
      "text/html": [
       "<div>\n",
       "<style scoped>\n",
       "    .dataframe tbody tr th:only-of-type {\n",
       "        vertical-align: middle;\n",
       "    }\n",
       "\n",
       "    .dataframe tbody tr th {\n",
       "        vertical-align: top;\n",
       "    }\n",
       "\n",
       "    .dataframe thead th {\n",
       "        text-align: right;\n",
       "    }\n",
       "</style>\n",
       "<table border=\"1\" class=\"dataframe\">\n",
       "  <thead>\n",
       "    <tr style=\"text-align: right;\">\n",
       "      <th></th>\n",
       "      <th>age at death</th>\n",
       "      <th>date of last vet visit</th>\n",
       "      <th>hair length</th>\n",
       "      <th>height</th>\n",
       "      <th>number of vet visits</th>\n",
       "      <th>weight</th>\n",
       "    </tr>\n",
       "    <tr>\n",
       "      <th>breed</th>\n",
       "      <th></th>\n",
       "      <th></th>\n",
       "      <th></th>\n",
       "      <th></th>\n",
       "      <th></th>\n",
       "      <th></th>\n",
       "    </tr>\n",
       "  </thead>\n",
       "  <tbody>\n",
       "    <tr>\n",
       "      <th>Donald</th>\n",
       "      <td>1</td>\n",
       "      <td>1</td>\n",
       "      <td>1</td>\n",
       "      <td>1</td>\n",
       "      <td>1</td>\n",
       "      <td>1</td>\n",
       "    </tr>\n",
       "    <tr>\n",
       "      <th>Javanese</th>\n",
       "      <td>58</td>\n",
       "      <td>58</td>\n",
       "      <td>58</td>\n",
       "      <td>58</td>\n",
       "      <td>58</td>\n",
       "      <td>58</td>\n",
       "    </tr>\n",
       "    <tr>\n",
       "      <th>Maine Coon</th>\n",
       "      <td>67</td>\n",
       "      <td>68</td>\n",
       "      <td>68</td>\n",
       "      <td>68</td>\n",
       "      <td>68</td>\n",
       "      <td>68</td>\n",
       "    </tr>\n",
       "    <tr>\n",
       "      <th>Manx</th>\n",
       "      <td>59</td>\n",
       "      <td>59</td>\n",
       "      <td>58</td>\n",
       "      <td>59</td>\n",
       "      <td>59</td>\n",
       "      <td>59</td>\n",
       "    </tr>\n",
       "    <tr>\n",
       "      <th>Rex</th>\n",
       "      <td>64</td>\n",
       "      <td>64</td>\n",
       "      <td>64</td>\n",
       "      <td>64</td>\n",
       "      <td>64</td>\n",
       "      <td>64</td>\n",
       "    </tr>\n",
       "    <tr>\n",
       "      <th>Siamese</th>\n",
       "      <td>50</td>\n",
       "      <td>50</td>\n",
       "      <td>50</td>\n",
       "      <td>50</td>\n",
       "      <td>50</td>\n",
       "      <td>50</td>\n",
       "    </tr>\n",
       "  </tbody>\n",
       "</table>\n",
       "</div>"
      ],
      "text/plain": [
       "            age at death  date of last vet visit  hair length  height  \\\n",
       "breed                                                                   \n",
       "Donald                 1                       1            1       1   \n",
       "Javanese              58                      58           58      58   \n",
       "Maine Coon            67                      68           68      68   \n",
       "Manx                  59                      59           58      59   \n",
       "Rex                   64                      64           64      64   \n",
       "Siamese               50                      50           50      50   \n",
       "\n",
       "            number of vet visits  weight  \n",
       "breed                                     \n",
       "Donald                         1       1  \n",
       "Javanese                      58      58  \n",
       "Maine Coon                    68      68  \n",
       "Manx                          59      59  \n",
       "Rex                           64      64  \n",
       "Siamese                       50      50  "
      ]
     },
     "execution_count": 13,
     "metadata": {},
     "output_type": "execute_result"
    }
   ],
   "source": [
    "data.groupby(by='breed').count()"
   ]
  },
  {
   "cell_type": "code",
   "execution_count": 14,
   "metadata": {},
   "outputs": [],
   "source": [
    "breeds = data.groupby(by='breed')['breed'].count()"
   ]
  },
  {
   "cell_type": "code",
   "execution_count": 15,
   "metadata": {},
   "outputs": [
    {
     "data": {
      "text/plain": [
       "count     6.000000\n",
       "mean     50.000000\n",
       "std      24.762875\n",
       "min       1.000000\n",
       "25%      52.000000\n",
       "50%      58.500000\n",
       "75%      62.750000\n",
       "max      68.000000\n",
       "Name: breed, dtype: float64"
      ]
     },
     "execution_count": 15,
     "metadata": {},
     "output_type": "execute_result"
    }
   ],
   "source": [
    "breeds.describe()"
   ]
  },
  {
   "cell_type": "code",
   "execution_count": 16,
   "metadata": {},
   "outputs": [
    {
     "data": {
      "text/plain": [
       "<AxesSubplot:xlabel='breed'>"
      ]
     },
     "execution_count": 16,
     "metadata": {},
     "output_type": "execute_result"
    },
    {
     "data": {
      "image/png": "[encoded data removed]",
      "text/plain": [
       "<Figure size 864x864 with 1 Axes>"
      ]
     },
     "metadata": {
      "needs_background": "light"
     },
     "output_type": "display_data"
    }
   ],
   "source": [
    "breeds.plot.bar()"
   ]
  },
  {
   "cell_type": "code",
   "execution_count": 17,
   "metadata": {},
   "outputs": [
    {
     "data": {
      "text/plain": [
       "breed\n",
       "Donald        14.000000\n",
       "Javanese       8.827586\n",
       "Maine Coon     9.000000\n",
       "Manx           9.135593\n",
       "Rex            9.203125\n",
       "Siamese        8.720000\n",
       "Name: age at death, dtype: float64"
      ]
     },
     "execution_count": 17,
     "metadata": {},
     "output_type": "execute_result"
    }
   ],
   "source": [
    "## correlation of cat's lifespan and breed \n",
    "data.groupby(['breed'])['age at death'].mean()"
   ]
  },
  {
   "cell_type": "code",
   "execution_count": 18,
   "metadata": {},
   "outputs": [
    {
     "data": {
      "text/plain": [
       "<AxesSubplot:title={'center':'age at death'}, xlabel='breed'>"
      ]
     },
     "execution_count": 18,
     "metadata": {},
     "output_type": "execute_result"
    },
    {
     "data": {
      "image/png": "[encoded data removed]",
      "text/plain": [
       "<Figure size 864x864 with 1 Axes>"
      ]
     },
     "metadata": {
      "needs_background": "light"
     },
     "output_type": "display_data"
    }
   ],
   "source": [
    "# data.groupby(['breed'])['age at death'].plot.box()\n",
    "data.boxplot(column=['age at death'], by='breed')"
   ]
  },
  {
   "cell_type": "markdown",
   "metadata": {},
   "source": [
    "### For different breed, the age at death is quite close. and the mean are all well below the normal lifespan of that breed. this can be an indication of many of those cats are experiencing poor health or some other common factors that leads to their early death"
   ]
  },
  {
   "cell_type": "markdown",
   "metadata": {},
   "source": [
    "### Addition to data assumption 1: health condtion of the cats can impact on the cats lifespan\n",
    "-  1.1. the weight,length and the number of vet visits data can give us an idea of health status of the cat \n",
    "-  1.2. the hair length may or may not directly link to cat's health, need domain knowledge \n",
    "-  1.3. lack of death time of the cat and the historical vet visit record, the last vet visit cannot be meanfully\n"
   ]
  },
  {
   "cell_type": "code",
   "execution_count": 19,
   "metadata": {},
   "outputs": [
    {
     "data": {
      "text/plain": [
       "count    300.000000\n",
       "mean       3.957667\n",
       "std        2.033624\n",
       "min        0.000000\n",
       "25%        2.000000\n",
       "50%        4.000000\n",
       "75%        5.250000\n",
       "max       10.000000\n",
       "Name: weight, dtype: float64"
      ]
     },
     "execution_count": 19,
     "metadata": {},
     "output_type": "execute_result"
    }
   ],
   "source": [
    "# weight data\n",
    "data.weight.describe()"
   ]
  },
  {
   "cell_type": "code",
   "execution_count": 20,
   "metadata": {},
   "outputs": [
    {
     "data": {
      "text/plain": [
       "<AxesSubplot:title={'center':'weight'}, xlabel='breed'>"
      ]
     },
     "execution_count": 20,
     "metadata": {},
     "output_type": "execute_result"
    },
    {
     "data": {
      "image/png": "[encoded data removed]",
      "text/plain": [
       "<Figure size 864x864 with 1 Axes>"
      ]
     },
     "metadata": {
      "needs_background": "light"
     },
     "output_type": "display_data"
    }
   ],
   "source": [
    "data.boxplot(column=['weight'], by='breed')"
   ]
  },
  {
   "cell_type": "markdown",
   "metadata": {},
   "source": [
    "### The mean value of age at death for each breed type is the same, \n",
    "## This is a bit strange, as Javanese is smaller breed than Maine Coon, but they are sharing same distribution \n",
    "## Can be: \n",
    "- 1. the data is artificial  \n",
    "- 2. there is a reason prevent Maine Coon to grow, which might interest for the business \n"
   ]
  },
  {
   "cell_type": "code",
   "execution_count": 21,
   "metadata": {},
   "outputs": [
    {
     "data": {
      "text/plain": [
       "<AxesSubplot:xlabel='weight', ylabel='age at death'>"
      ]
     },
     "execution_count": 21,
     "metadata": {},
     "output_type": "execute_result"
    },
    {
     "data": {
      "image/png": "[encoded data removed]",
      "text/plain": [
       "<Figure size 864x864 with 1 Axes>"
      ]
     },
     "metadata": {
      "needs_background": "light"
     },
     "output_type": "display_data"
    }
   ],
   "source": [
    "# data.boxplot(column=['weight'], by='breed')\n",
    "data.plot.scatter(x='weight',\n",
    "                      y='age at death')"
   ]
  },
  {
   "cell_type": "markdown",
   "metadata": {},
   "source": [
    "### missing data at weight 0. "
   ]
  },
  {
   "cell_type": "code",
   "execution_count": 22,
   "metadata": {},
   "outputs": [
    {
     "data": {
      "text/plain": [
       "<AxesSubplot:title={'center':'weight'}, xlabel='age at death'>"
      ]
     },
     "execution_count": 22,
     "metadata": {},
     "output_type": "execute_result"
    },
    {
     "data": {
      "image/png": "[encoded data removed]",
      "text/plain": [
       "<Figure size 864x864 with 1 Axes>"
      ]
     },
     "metadata": {
      "needs_background": "light"
     },
     "output_type": "display_data"
    }
   ],
   "source": [
    "data.boxplot(column=['weight'], by='age at death')"
   ]
  },
  {
   "cell_type": "markdown",
   "metadata": {},
   "source": [
    "### we treat age at death as an category data, and plot the weight distirbution of each age \n",
    "\n",
    " most of the age at death has a similar mean of weight, which is making sense\n",
    " when cats were young (2-3 year old) they had less weight, the cat size is under weight  \n",
    " age 0 cat, can be the kitten dieds before reach age 1  \n",
    " several missing value data, "
   ]
  },
  {
   "cell_type": "code",
   "execution_count": 23,
   "metadata": {},
   "outputs": [
    {
     "data": {
      "text/plain": [
       "<AxesSubplot:title={'center':'height'}, xlabel='age at death'>"
      ]
     },
     "execution_count": 23,
     "metadata": {},
     "output_type": "execute_result"
    },
    {
     "data": {
      "image/png": "[encoded data removed]",
      "text/plain": [
       "<Figure size 864x864 with 1 Axes>"
      ]
     },
     "metadata": {
      "needs_background": "light"
     },
     "output_type": "display_data"
    }
   ],
   "source": [
    "data.boxplot(column=['height'], by='age at death')"
   ]
  },
  {
   "cell_type": "code",
   "execution_count": 24,
   "metadata": {},
   "outputs": [
    {
     "data": {
      "text/plain": [
       "count    300.000000\n",
       "mean      20.498442\n",
       "std        5.107386\n",
       "min        5.077179\n",
       "25%       16.958241\n",
       "50%       20.825805\n",
       "75%       24.043067\n",
       "max       33.043014\n",
       "Name: height, dtype: float64"
      ]
     },
     "execution_count": 24,
     "metadata": {},
     "output_type": "execute_result"
    }
   ],
   "source": [
    "data.height.describe()"
   ]
  },
  {
   "cell_type": "markdown",
   "metadata": {},
   "source": [
    "### all the age of cat shared the similar mean around 20, with std 5 cm. which is fit the common knowledge \n",
    "### some cats extremely small, less than 10 cm high, which is uncommon "
   ]
  },
  {
   "cell_type": "code",
   "execution_count": 37,
   "metadata": {},
   "outputs": [
    {
     "data": {
      "text/plain": [
       "<AxesSubplot:title={'center':'number of vet visits'}, xlabel='age at death'>"
      ]
     },
     "execution_count": 37,
     "metadata": {},
     "output_type": "execute_result"
    },
    {
     "data": {
      "image/png": "[encoded data removed]",
      "text/plain": [
       "<Figure size 864x864 with 1 Axes>"
      ]
     },
     "metadata": {},
     "output_type": "display_data"
    }
   ],
   "source": [
    "data.boxplot(column=['number of vet visits'], by='age at death')"
   ]
  },
  {
   "cell_type": "code",
   "execution_count": 38,
   "metadata": {},
   "outputs": [
    {
     "data": {
      "text/plain": [
       "count    300.000000\n",
       "mean      20.498442\n",
       "std        5.107386\n",
       "min        5.077179\n",
       "25%       16.958241\n",
       "50%       20.825805\n",
       "75%       24.043067\n",
       "max       33.043014\n",
       "Name: height, dtype: float64"
      ]
     },
     "execution_count": 38,
     "metadata": {},
     "output_type": "execute_result"
    }
   ],
   "source": [
    "data.height.describe()"
   ]
  },
  {
   "cell_type": "markdown",
   "metadata": {},
   "source": [
    "### Assumption:\n",
    "I was expecting to see as cat grow older, they should accumulate the number of visits to the vet. \n",
    "but the data showed a rather even mean and distribution cross different age. \n",
    "### this can mean: \n",
    "- 1. we might have data understanding issue, this can be num of visit vet per year  ?? \n",
    "- 2. the younger cat tends visit vet more when they are yound (1-3 years old), then stopped visiting vet after that,\n",
    "    \n",
    "need SME to verify"
   ]
  },
  {
   "cell_type": "code",
   "execution_count": 39,
   "metadata": {},
   "outputs": [
    {
     "data": {
      "text/plain": [
       "<AxesSubplot:title={'center':'hair length'}, xlabel='breed'>"
      ]
     },
     "execution_count": 39,
     "metadata": {},
     "output_type": "execute_result"
    },
    {
     "data": {
      "image/png": "[encoded data removed]",
      "text/plain": [
       "<Figure size 864x864 with 1 Axes>"
      ]
     },
     "metadata": {},
     "output_type": "display_data"
    }
   ],
   "source": [
    "data.boxplot(column=['hair length'], by='breed')"
   ]
  },
  {
   "cell_type": "code",
   "execution_count": 40,
   "metadata": {},
   "outputs": [
    {
     "data": {
      "text/plain": [
       "<AxesSubplot:title={'center':'hair length'}, xlabel='breed'>"
      ]
     },
     "execution_count": 40,
     "metadata": {},
     "output_type": "execute_result"
    },
    {
     "data": {
      "image/png": "[encoded data removed]",
      "text/plain": [
       "<Figure size 864x864 with 1 Axes>"
      ]
     },
     "metadata": {},
     "output_type": "display_data"
    }
   ],
   "source": [
    "## filter out the outlier\n",
    "data[(data['hair length']!= max(data['hair length']))].boxplot(column=['hair length'], by='breed')"
   ]
  },
  {
   "cell_type": "markdown",
   "metadata": {},
   "source": [
    "### the hair length is not reflcting the common knowledge \n",
    " Maine Coon is known for its long hair, and Rex is famous for its short hair, \n",
    " but they share the same mean and distribution "
   ]
  },
  {
   "cell_type": "markdown",
   "metadata": {},
   "source": [
    "# Conclusion "
   ]
  },
  {
   "cell_type": "markdown",
   "metadata": {},
   "source": [
    "Need further discussion with client about data \n",
    "- Data is mostly in Hypothesis 1 category, with only one useful data point in  Hypothesis 3 category, so need to conduct data exploration with clien to further identify data sources for hypothesis 2 and 3\n",
    "- Data pattern not reflecting domian knowledge, \n",
    "   1. the distribution of weight and hair length cross breed as almost the same, however, Maine Coon breed are known for their huge size and long hair, and Rex is known for their small size of short hair. \n",
    "   2. Some cats' height is way too small \n",
    "   3. Some cats' died at 0 age \n",
    "  \n",
    "Need to understand why is the pattern, if the data were artificially generated, the client might be exploring what data they need to collect,then we can help to provide feedback and guidance. "
   ]
  },
  {
   "cell_type": "markdown",
   "metadata": {},
   "source": [
    "# Next Step\n",
    "\n",
    "Data Process and build baseline model, then iterate on with additional data to improve accuracy \n",
    "\n",
    "**Key decisions**\n",
    "1. remove \"last data vet visit\" and index column from model building\n",
    "2. Handle exterme outliers, the one beyond quantile 99.9%, such as the one with hair length, but keep the others \n",
    "3. Keep the dirty data, such as \"Die of age\" 0, the future data might have the same kind of data, so the model training need to take that into consideration. "
   ]
  },
  {
   "cell_type": "markdown",
   "metadata": {},
   "source": [
    "## Please refer to the \"Data preprocess and Modeling\" notebook for the next step activities"
   ]
  },
  {
   "cell_type": "code",
   "execution_count": null,
   "metadata": {},
   "outputs": [],
   "source": []
  }
 ],
 "metadata": {
  "kernelspec": {
   "display_name": "Python 3",
   "language": "python",
   "name": "python3"
  },
  "language_info": {
   "codemirror_mode": {
    "name": "ipython",
    "version": 3
   },
   "file_extension": ".py",
   "mimetype": "text/x-python",
   "name": "python",
   "nbconvert_exporter": "python",
   "pygments_lexer": "ipython3",
   "version": "3.7.9"
  }
 },
 "nbformat": 4,
 "nbformat_minor": 4
}
